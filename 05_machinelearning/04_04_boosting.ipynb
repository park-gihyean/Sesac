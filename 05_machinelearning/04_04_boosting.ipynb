{
 "cells": [
  {
   "cell_type": "code",
   "execution_count": 1,
   "id": "b9da3eea-855e-4d6d-9c33-4b0853db0f49",
   "metadata": {},
   "outputs": [],
   "source": [
    "from sklearn.ensemble import GradientBoostingClassifier\n",
    "import warnings\n",
    "import pandas as pd\n",
    "from sklearn.metrics import accuracy_score\n",
    "\n",
    "warnings.filterwarnings('ignore')"
   ]
  },
  {
   "cell_type": "code",
   "execution_count": 2,
   "id": "5c876e65-6b17-4e77-b19a-ff8129a411b1",
   "metadata": {},
   "outputs": [],
   "source": [
    "# from 04_02\n",
    "def get_new_df(old_df):  \n",
    "    dup_df = pd.DataFrame(data= old_df.groupby('column_name').cumcount(),columns=['dup_cnt'])\n",
    "    dup_df = dup_df.reset_index()\n",
    "    new_df = pd.merge(old_df.reset_index(), dup_df, how='outer')\n",
    "    new_df['column_name'] = new_df[['column_name','dup_cnt']].apply(lambda x:x[0]+'_'+str(x[1]) if x[1]>0 else x[0],axis=1)\n",
    "    new_df.drop(columns=['index'],inplace=True)\n",
    "    return new_df\n",
    "\n",
    "def get_human_dataset() :\n",
    "    feature_name_df = pd.read_csv('human_activity/features.txt',\n",
    "                 sep = '\\s+',\n",
    "                 header = None,\n",
    "                 names = ['column_index','column_name'])\n",
    "    \n",
    "    name_df = get_new_df(feature_name_df)\n",
    "    feature_name = name_df.iloc[:,1].values.tolist()\n",
    "    X_train = pd.read_csv('human_activity/train/X_train.txt',\n",
    "                          sep = '\\s+',\n",
    "                          names = feature_name)\n",
    "    X_test = pd.read_csv('human_activity/test/X_test.txt',\n",
    "                          sep = '\\s+',\n",
    "                          names = feature_name)\n",
    "    y_train = pd.read_csv('human_activity/train/y_train.txt',\n",
    "                          sep = '\\s+',\n",
    "                          names = ['action'])\n",
    "    y_test = pd.read_csv('human_activity/test/y_test.txt',\n",
    "                          sep = '\\s+',\n",
    "                          names = ['action'])\n",
    "    \n",
    "    return X_train, X_test, y_train, y_test"
   ]
  },
  {
   "cell_type": "code",
   "execution_count": 3,
   "id": "445dedd0-6d4f-4a09-8e42-a5a1718fe3a6",
   "metadata": {},
   "outputs": [],
   "source": [
    "X_train, X_test, y_train, y_test = get_human_dataset()"
   ]
  },
  {
   "cell_type": "code",
   "execution_count": 4,
   "id": "765a750a-1998-4b02-b7da-cca311239a6b",
   "metadata": {},
   "outputs": [
    {
     "name": "stdout",
     "output_type": "stream",
     "text": [
      "Wall time: 9min 14s\n"
     ]
    },
    {
     "data": {
      "text/plain": [
       "0.9382422802850356"
      ]
     },
     "execution_count": 4,
     "metadata": {},
     "output_type": "execute_result"
    }
   ],
   "source": [
    "%%time\n",
    "gb_clf = GradientBoostingClassifier()\n",
    "gb_clf.fit(X_train, y_train)\n",
    "pred = gb_clf.predict(X_test)\n",
    "accuracy_score(y_test,pred)"
   ]
  },
  {
   "cell_type": "code",
   "execution_count": 5,
   "id": "817b154c-ff60-4320-b80d-467f360a449d",
   "metadata": {},
   "outputs": [],
   "source": [
    "# 하이퍼 파라미터 사용 없이 높은 정확도"
   ]
  },
  {
   "cell_type": "code",
   "execution_count": 6,
   "id": "14127f34-ffd2-4a9b-8763-ed76c6db3d58",
   "metadata": {},
   "outputs": [
    {
     "ename": "ModuleNotFoundError",
     "evalue": "No module named 'xgboost'",
     "output_type": "error",
     "traceback": [
      "\u001b[1;31m---------------------------------------------------------------------------\u001b[0m",
      "\u001b[1;31mModuleNotFoundError\u001b[0m                       Traceback (most recent call last)",
      "\u001b[1;32m~\\AppData\\Local\\Temp\\ipykernel_6324\\1030549245.py\u001b[0m in \u001b[0;36m<module>\u001b[1;34m\u001b[0m\n\u001b[1;32m----> 1\u001b[1;33m \u001b[1;32mimport\u001b[0m \u001b[0mxgboost\u001b[0m \u001b[1;32mas\u001b[0m \u001b[0mxgb\u001b[0m\u001b[1;33m\u001b[0m\u001b[1;33m\u001b[0m\u001b[0m\n\u001b[0m\u001b[0;32m      2\u001b[0m \u001b[1;32mfrom\u001b[0m \u001b[0mxgboost\u001b[0m \u001b[1;32mimport\u001b[0m \u001b[0mXGBClassifier\u001b[0m\u001b[1;33m\u001b[0m\u001b[1;33m\u001b[0m\u001b[0m\n\u001b[0;32m      3\u001b[0m \u001b[1;32mfrom\u001b[0m \u001b[0mxgboost\u001b[0m \u001b[1;32mimport\u001b[0m \u001b[0mplot_importance\u001b[0m\u001b[1;33m\u001b[0m\u001b[1;33m\u001b[0m\u001b[0m\n\u001b[0;32m      4\u001b[0m \u001b[1;32mimport\u001b[0m \u001b[0mpandas\u001b[0m \u001b[1;32mas\u001b[0m \u001b[0mpd\u001b[0m\u001b[1;33m\u001b[0m\u001b[1;33m\u001b[0m\u001b[0m\n\u001b[0;32m      5\u001b[0m \u001b[1;32mimport\u001b[0m \u001b[0mnumpy\u001b[0m \u001b[1;32mas\u001b[0m \u001b[0mnp\u001b[0m\u001b[1;33m\u001b[0m\u001b[1;33m\u001b[0m\u001b[0m\n",
      "\u001b[1;31mModuleNotFoundError\u001b[0m: No module named 'xgboost'"
     ]
    }
   ],
   "source": [
    "import xgboost as xgb\n",
    "from xgboost import XGBClassifier\n",
    "from xgboost import plot_importance\n",
    "import pandas as pd\n",
    "import numpy as np\n",
    "\n",
    "\n",
    "from sklearn.datasets import load_breast_cancer\n",
    "from sklearn.model_selection import train_test_split"
   ]
  },
  {
   "cell_type": "code",
   "execution_count": null,
   "id": "fe391387-8837-4cd1-821c-63b406f6670a",
   "metadata": {},
   "outputs": [],
   "source": [
    "xgb.__version__"
   ]
  },
  {
   "cell_type": "code",
   "execution_count": null,
   "id": "2951d1cf-431b-4f48-88ca-f8865f5506e2",
   "metadata": {},
   "outputs": [],
   "source": [
    "dataset = load_breast_cancer(as_frame = True)"
   ]
  },
  {
   "cell_type": "code",
   "execution_count": null,
   "id": "258e353f-6092-4f54-94f7-af1bafeee2a1",
   "metadata": {},
   "outputs": [],
   "source": [
    "dataset.data"
   ]
  },
  {
   "cell_type": "code",
   "execution_count": null,
   "id": "788fe104-5890-4449-adde-488d37866f2c",
   "metadata": {},
   "outputs": [],
   "source": [
    "dataset.target"
   ]
  },
  {
   "cell_type": "code",
   "execution_count": null,
   "id": "a02b1c15-8365-4d6b-b174-945b8de61db2",
   "metadata": {},
   "outputs": [],
   "source": [
    "dataset.target_names\n",
    "# 악성 종양, 양성 종양"
   ]
  },
  {
   "cell_type": "code",
   "execution_count": null,
   "id": "2b292276-5ad8-4acb-88de-11f028b39c11",
   "metadata": {},
   "outputs": [],
   "source": [
    "dataset.target.value_counts()"
   ]
  },
  {
   "cell_type": "code",
   "execution_count": null,
   "id": "1eba3bff-3abc-49c0-89ce-e3f53335e6b8",
   "metadata": {},
   "outputs": [],
   "source": [
    "X_train,X_test,y_train,y_test = train_test_split(dataset.data,dataset.target,test_size=0.2,random_state=156)\n",
    "X_tr, X_val, y_tr, y_val = train_test_split(X_train,y_train,test_size=0.1,random_state=156)\n",
    "# 학습용 데이터를 한번 더 나누었다."
   ]
  },
  {
   "cell_type": "code",
   "execution_count": null,
   "id": "30856a2b-5555-4b23-aeae-cea0a9bf0429",
   "metadata": {},
   "outputs": [],
   "source": [
    "X_train.shape,X_test.shape"
   ]
  },
  {
   "cell_type": "code",
   "execution_count": null,
   "id": "8e929423-98e3-4fb4-8beb-971c6cb20fdf",
   "metadata": {},
   "outputs": [],
   "source": [
    "X_tr.shape, X_val.shape"
   ]
  },
  {
   "cell_type": "code",
   "execution_count": null,
   "id": "20066ca7-ec49-46d2-95f9-c734ed3c76a9",
   "metadata": {},
   "outputs": [],
   "source": [
    "y_train.value_counts()"
   ]
  },
  {
   "cell_type": "code",
   "execution_count": null,
   "id": "08543b37-d445-4ab6-8573-e9e5a6439d31",
   "metadata": {},
   "outputs": [],
   "source": [
    "dtr = xgb.DMatrix(data=X_tr, label=y_tr)\n",
    "dval = xgb.DMatrix(data=X_val, label = y_val)\n",
    "dtest = xgb.DMatrix(data=X_test, label = y_test)\n",
    "# 학습, 검증, 테스트 데이타"
   ]
  },
  {
   "cell_type": "code",
   "execution_count": null,
   "id": "5fdf9f4b-e728-4b39-a5f3-339374320b70",
   "metadata": {},
   "outputs": [],
   "source": [
    "XGBClassifier()\n",
    "# * 키 밸류 값으로 넣으면 돈다."
   ]
  },
  {
   "cell_type": "code",
   "execution_count": null,
   "id": "629a93d3-1b06-4b40-82b1-a0e5d050611b",
   "metadata": {},
   "outputs": [],
   "source": [
    "# 모델 설정용\n",
    "params = {\n",
    "    'max_depth' : 3,\n",
    "    'eta' : 0.05,\n",
    "    'objective' : 'binary:logistic',\n",
    "    'eval_metric' : 'logloss'\n",
    "}\n",
    "num_rounds = 500\n",
    "eval_list= [(dtr,'train'),(dval,'eval')]\n",
    "# (학습 데이타),(검증용 데이타)"
   ]
  },
  {
   "cell_type": "code",
   "execution_count": null,
   "id": "0ea7ed6c-3f08-44dc-947d-f4d3417a0ba1",
   "metadata": {
    "tags": []
   },
   "outputs": [],
   "source": [
    "# 모델 학습\n",
    "model = xgb.train(params,dtr, num_rounds,evals = eval_list,early_stopping_rounds= 50)\n",
    "#num_rounds 400회 반복 하겠다.\n",
    "#early_stopping_rounds 조기 종료하겠다. 50회 이후에도 성능에 개선이 없다면 그만 두겠다."
   ]
  },
  {
   "cell_type": "code",
   "execution_count": null,
   "id": "15483fd6-2b8b-4a76-934c-e6c8a1679d82",
   "metadata": {},
   "outputs": [],
   "source": [
    "pred_probs = model.predict(dtest)\n",
    "pred_probs \n",
    "#1이 될 확률"
   ]
  },
  {
   "cell_type": "code",
   "execution_count": null,
   "id": "9e97e6ae-eb06-4288-8639-1436f3581656",
   "metadata": {},
   "outputs": [],
   "source": [
    "np.round(pred_probs,3)"
   ]
  },
  {
   "cell_type": "code",
   "execution_count": null,
   "id": "bcc10369-aaf9-45d1-aee1-8f6df8da57db",
   "metadata": {},
   "outputs": [],
   "source": []
  },
  {
   "cell_type": "code",
   "execution_count": null,
   "id": "cd544faf-0d3e-4768-af16-7d4529c2bc65",
   "metadata": {},
   "outputs": [],
   "source": [
    "pred = [1 if x> 0.5 else 0 for x in pred_probs ]"
   ]
  },
  {
   "cell_type": "code",
   "execution_count": null,
   "id": "247d041d-9a0b-4671-a594-22bf07ed2642",
   "metadata": {},
   "outputs": [],
   "source": [
    "def get_clf_eval(y_test,pred,pred_proba_1):\n",
    "    from sklearn.metrics import accuracy_score, precision_score, recall_score,confusion_matrix,f1_score,roc_auc_score\n",
    "    confusion = confusion_matrix(y_test,pred)\n",
    "    accuracy = accuracy_score(y_test,pred)\n",
    "    #정확도\n",
    "    precision = precision_score(y_test,pred)\n",
    "    #정밀도\n",
    "    recall = recall_score(y_test,pred)\n",
    "    #재현율\n",
    "    f1= f1_score(y_test,pred)\n",
    "    auc = roc_auc_score(y_test,pred_proba_1)\n",
    "    print('오차행렬')\n",
    "    print(confusion)\n",
    "    print(f'정확도 : {accuracy:.4f}, 정밀도 : {precision:.4f}, 재현율 : {recall:.4f}, F1 : {f1:.4f}, AUC : {auc:.4f}')\n",
    "    "
   ]
  },
  {
   "cell_type": "code",
   "execution_count": null,
   "id": "8eb674a7-b302-4f3e-9136-22f88e7066b0",
   "metadata": {},
   "outputs": [],
   "source": [
    "get_clf_eval(y_test,pred,pred_probs)"
   ]
  },
  {
   "cell_type": "code",
   "execution_count": null,
   "id": "3adcad23-3227-4fc8-a220-46bc8b88978c",
   "metadata": {},
   "outputs": [],
   "source": [
    "plot_importance(model)"
   ]
  },
  {
   "cell_type": "code",
   "execution_count": null,
   "id": "61dc55a8-3565-4633-9963-59e0940c6033",
   "metadata": {},
   "outputs": [],
   "source": [
    "from xgboost import XGBClassifier"
   ]
  },
  {
   "cell_type": "code",
   "execution_count": null,
   "id": "48b95efa-0038-4932-8680-fd149a6fffff",
   "metadata": {},
   "outputs": [],
   "source": [
    "# 위에서 xgb.train 했던 것과 같은 모델???\n",
    "model = XGBClassifier(n_estimators = 500, learning_rate = 0.05, max_depth=3,eval_metric='logloss')"
   ]
  },
  {
   "cell_type": "code",
   "execution_count": null,
   "id": "6663ec4b-ca51-45fc-8da6-697d57c25e48",
   "metadata": {},
   "outputs": [],
   "source": [
    "model.fit(X_train,y_train,verbose=True)"
   ]
  },
  {
   "cell_type": "code",
   "execution_count": null,
   "id": "6ecf494f-5bfa-438e-aafa-f9d1deb97060",
   "metadata": {},
   "outputs": [],
   "source": [
    "pred = model.predict(X_test)"
   ]
  },
  {
   "cell_type": "code",
   "execution_count": null,
   "id": "1325f73e-f075-4484-8f45-be5bec81248f",
   "metadata": {},
   "outputs": [],
   "source": [
    "pred"
   ]
  },
  {
   "cell_type": "code",
   "execution_count": null,
   "id": "621a98c8-ff67-4e91-aad6-e2b6cc086bca",
   "metadata": {},
   "outputs": [],
   "source": [
    "pred_proba = model.predict_proba(X_test)\n",
    "pred_proba[:,1]"
   ]
  },
  {
   "cell_type": "code",
   "execution_count": null,
   "id": "0e722252-6c80-4362-a049-fa7dcf3d4c54",
   "metadata": {},
   "outputs": [],
   "source": [
    "get_clf_eval(y_test,pred,pred_proba[:,1])"
   ]
  },
  {
   "cell_type": "code",
   "execution_count": null,
   "id": "71c643d6-4a2a-42b5-8abc-3ea8de1db559",
   "metadata": {},
   "outputs": [],
   "source": [
    "model = XGBClassifier(n_estimators = 500, learning_rate = 0.05, max_depth=3)\n",
    "evals=[(X_tr,y_tr),(X_val,y_val)]\n",
    "model.fit(X_tr,\n",
    "          y_tr,\n",
    "          verbose=True,\n",
    "          eval_set=evals,\n",
    "          early_stopping_rounds=50,\n",
    "          eval_metric='logloss')\n",
    "pred = model.predict(X_test)\n",
    "pred_proba = model.predict_proba(X_test)\n",
    "get_clf_eval(y_test,pred,pred_proba[:,1])\n",
    "# 126 번으로 이후 50횟수 동안 별다른 성능 향상은 없다.\n",
    "# 조기 종료 설정 횟수를 너무 작게 주어도 않된다."
   ]
  },
  {
   "cell_type": "code",
   "execution_count": null,
   "id": "9e22c79a-4669-4cb5-b623-25ab84e68616",
   "metadata": {},
   "outputs": [],
   "source": [
    "from xgboost import to_graphviz\n",
    "to_graphviz(model)"
   ]
  },
  {
   "cell_type": "code",
   "execution_count": null,
   "id": "23c082d1-8547-4b03-9e79-9153834bfdd8",
   "metadata": {},
   "outputs": [],
   "source": []
  }
 ],
 "metadata": {
  "kernelspec": {
   "display_name": "Python 3 (ipykernel)",
   "language": "python",
   "name": "python3"
  },
  "language_info": {
   "codemirror_mode": {
    "name": "ipython",
    "version": 3
   },
   "file_extension": ".py",
   "mimetype": "text/x-python",
   "name": "python",
   "nbconvert_exporter": "python",
   "pygments_lexer": "ipython3",
   "version": "3.9.13"
  }
 },
 "nbformat": 4,
 "nbformat_minor": 5
}
