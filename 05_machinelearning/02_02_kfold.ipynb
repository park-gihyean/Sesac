{
 "cells": [
  {
   "cell_type": "markdown",
   "id": "c69f7e27-104c-489a-aeb6-06313748009c",
   "metadata": {},
   "source": [
    "\n",
    "교차검증\n",
    "\n",
    "실제 데이터를 적용하면 모델의 성능은 다르게 나오게 된다. 따라서 모델은 다양하게 학습되고, 검증되어야 한다.\n",
    "\n",
    "모델 자체의 성능을 확인할 수 있다.\n",
    "\n",
    "테스트용의 데이터를 분리하고 확인하는 방법도 과적합에 취약하다.\n",
    "\n",
    "KFold\n",
    "\n",
    "데이터를 K 개로 나눈 뒤 각 데이터가 한번씩 테스트 데이터를 맡아가며 학습하는 방법이다.(각 각, 총 k번을 학습한다.)\n"
   ]
  },
  {
   "cell_type": "code",
   "execution_count": 67,
   "id": "0718681c-410c-4392-bcb9-76894a0d6766",
   "metadata": {},
   "outputs": [],
   "source": [
    "from sklearn.tree import DecisionTreeClassifier\n",
    "from sklearn.datasets import load_iris\n",
    "from sklearn.metrics import accuracy_score\n",
    "from sklearn.model_selection import KFold\n",
    "from sklearn.model_selection import StratifiedKFold\n",
    "import numpy as np"
   ]
  },
  {
   "cell_type": "code",
   "execution_count": 68,
   "id": "c1687a54-c6b0-400b-9659-094558359370",
   "metadata": {},
   "outputs": [],
   "source": [
    "# Kfold 로 교차검증용 데이터 생성\n",
    "iris = load_iris()\n",
    "dt_clf = DecisionTreeClassifier(random_state=156)\n",
    "kfold = KFold(n_splits=5)"
   ]
  },
  {
   "cell_type": "code",
   "execution_count": 69,
   "id": "6d5e0d2f-71fc-4243-88d4-068bf6e7e23c",
   "metadata": {
    "tags": []
   },
   "outputs": [
    {
     "name": "stdout",
     "output_type": "stream",
     "text": [
      "[ 30  31  32  33  34  35  36  37  38  39  40  41  42  43  44  45  46  47\n",
      "  48  49  50  51  52  53  54  55  56  57  58  59  60  61  62  63  64  65\n",
      "  66  67  68  69  70  71  72  73  74  75  76  77  78  79  80  81  82  83\n",
      "  84  85  86  87  88  89  90  91  92  93  94  95  96  97  98  99 100 101\n",
      " 102 103 104 105 106 107 108 109 110 111 112 113 114 115 116 117 118 119\n",
      " 120 121 122 123 124 125 126 127 128 129 130 131 132 133 134 135 136 137\n",
      " 138 139 140 141 142 143 144 145 146 147 148 149]\n",
      "[ 0  1  2  3  4  5  6  7  8  9 10 11 12 13 14 15 16 17 18 19 20 21 22 23\n",
      " 24 25 26 27 28 29]\n",
      "[  0   1   2   3   4   5   6   7   8   9  10  11  12  13  14  15  16  17\n",
      "  18  19  20  21  22  23  24  25  26  27  28  29  60  61  62  63  64  65\n",
      "  66  67  68  69  70  71  72  73  74  75  76  77  78  79  80  81  82  83\n",
      "  84  85  86  87  88  89  90  91  92  93  94  95  96  97  98  99 100 101\n",
      " 102 103 104 105 106 107 108 109 110 111 112 113 114 115 116 117 118 119\n",
      " 120 121 122 123 124 125 126 127 128 129 130 131 132 133 134 135 136 137\n",
      " 138 139 140 141 142 143 144 145 146 147 148 149]\n",
      "[30 31 32 33 34 35 36 37 38 39 40 41 42 43 44 45 46 47 48 49 50 51 52 53\n",
      " 54 55 56 57 58 59]\n",
      "[  0   1   2   3   4   5   6   7   8   9  10  11  12  13  14  15  16  17\n",
      "  18  19  20  21  22  23  24  25  26  27  28  29  30  31  32  33  34  35\n",
      "  36  37  38  39  40  41  42  43  44  45  46  47  48  49  50  51  52  53\n",
      "  54  55  56  57  58  59  90  91  92  93  94  95  96  97  98  99 100 101\n",
      " 102 103 104 105 106 107 108 109 110 111 112 113 114 115 116 117 118 119\n",
      " 120 121 122 123 124 125 126 127 128 129 130 131 132 133 134 135 136 137\n",
      " 138 139 140 141 142 143 144 145 146 147 148 149]\n",
      "[60 61 62 63 64 65 66 67 68 69 70 71 72 73 74 75 76 77 78 79 80 81 82 83\n",
      " 84 85 86 87 88 89]\n",
      "[  0   1   2   3   4   5   6   7   8   9  10  11  12  13  14  15  16  17\n",
      "  18  19  20  21  22  23  24  25  26  27  28  29  30  31  32  33  34  35\n",
      "  36  37  38  39  40  41  42  43  44  45  46  47  48  49  50  51  52  53\n",
      "  54  55  56  57  58  59  60  61  62  63  64  65  66  67  68  69  70  71\n",
      "  72  73  74  75  76  77  78  79  80  81  82  83  84  85  86  87  88  89\n",
      " 120 121 122 123 124 125 126 127 128 129 130 131 132 133 134 135 136 137\n",
      " 138 139 140 141 142 143 144 145 146 147 148 149]\n",
      "[ 90  91  92  93  94  95  96  97  98  99 100 101 102 103 104 105 106 107\n",
      " 108 109 110 111 112 113 114 115 116 117 118 119]\n",
      "[  0   1   2   3   4   5   6   7   8   9  10  11  12  13  14  15  16  17\n",
      "  18  19  20  21  22  23  24  25  26  27  28  29  30  31  32  33  34  35\n",
      "  36  37  38  39  40  41  42  43  44  45  46  47  48  49  50  51  52  53\n",
      "  54  55  56  57  58  59  60  61  62  63  64  65  66  67  68  69  70  71\n",
      "  72  73  74  75  76  77  78  79  80  81  82  83  84  85  86  87  88  89\n",
      "  90  91  92  93  94  95  96  97  98  99 100 101 102 103 104 105 106 107\n",
      " 108 109 110 111 112 113 114 115 116 117 118 119]\n",
      "[120 121 122 123 124 125 126 127 128 129 130 131 132 133 134 135 136 137\n",
      " 138 139 140 141 142 143 144 145 146 147 148 149]\n"
     ]
    }
   ],
   "source": [
    "# 데이터 확인\n",
    "for train_index, test_index in kfold.split(iris.data) :\n",
    "    print(train_index)\n",
    "    print(test_index)\n",
    "    \n",
    "# 데이터의 순서를 섞지 않고 5등분 한 것을 볼 수 있다."
   ]
  },
  {
   "cell_type": "code",
   "execution_count": 70,
   "id": "cf783b82-111c-404a-9dc6-1d05c8a99cec",
   "metadata": {},
   "outputs": [
    {
     "name": "stdout",
     "output_type": "stream",
     "text": [
      "1번째, 정확도: 1.0\n",
      "테스트 리스트: [0 0 0 0 0 0 0 0 0 0 0 0 0 0 0 0 0 0 0 0 0 0 0 0 0 0 0 0 0 0]\n",
      "2번째, 정확도: 0.9666666666666667\n",
      "테스트 리스트: [0 0 0 0 0 0 0 0 0 0 0 0 0 0 0 0 0 0 0 0 1 1 1 1 1 1 1 1 1 1]\n",
      "3번째, 정확도: 0.8666666666666667\n",
      "테스트 리스트: [1 1 1 1 1 1 1 1 1 1 1 1 1 1 1 1 1 1 1 1 1 1 1 1 1 1 1 1 1 1]\n",
      "4번째, 정확도: 0.9333333333333333\n",
      "테스트 리스트: [1 1 1 1 1 1 1 1 1 1 2 2 2 2 2 2 2 2 2 2 2 2 2 2 2 2 2 2 2 2]\n",
      "5번째, 정확도: 0.7333333333333333\n",
      "테스트 리스트: [2 2 2 2 2 2 2 2 2 2 2 2 2 2 2 2 2 2 2 2 2 2 2 2 2 2 2 2 2 2]\n"
     ]
    }
   ],
   "source": [
    "# 각 그룹 학습 및 확인\n",
    "\n",
    "cv_accuracy = []\n",
    "# 정확도 저장용 리스트\n",
    "\n",
    "n_iter = 0\n",
    "# 몇번 반복 하는지\n",
    "\n",
    "for train_index, test_index in kfold.split(iris.data):\n",
    "    # print(train_index)\n",
    "    # print(test_index)\n",
    "    X_train, X_test = iris.data[train_index],iris.data[test_index]\n",
    "    y_train, y_test = iris.target[train_index],iris.target[test_index]\n",
    "    dt_clf.fit(X_train,y_train)\n",
    "    pred = dt_clf.predict(X_test)\n",
    "    n_iter += 1\n",
    "    accuracy = accuracy_score(y_test,pred)\n",
    "    cv_accuracy.append(accuracy)\n",
    "    print(f'{n_iter}번째, 정확도: {accuracy}')\n",
    "    print(f'테스트 리스트: {y_test}')"
   ]
  },
  {
   "cell_type": "code",
   "execution_count": 71,
   "id": "47f7171a-e60a-4803-9c3e-a4914a07da4d",
   "metadata": {},
   "outputs": [
    {
     "data": {
      "text/plain": [
       "0.9"
      ]
     },
     "execution_count": 71,
     "metadata": {},
     "output_type": "execute_result"
    }
   ],
   "source": [
    "np.mean(cv_accuracy)"
   ]
  },
  {
   "cell_type": "code",
   "execution_count": null,
   "id": "f51c59d4-81d9-4906-9866-edc85c22cc6d",
   "metadata": {},
   "outputs": [],
   "source": []
  },
  {
   "cell_type": "code",
   "execution_count": 72,
   "id": "8008a7f8-03e0-4b31-bfc6-67765ff683c9",
   "metadata": {},
   "outputs": [],
   "source": [
    "# kfold, shuffle=True 옵션 추가\n",
    "iris = load_iris()\n",
    "dt_clf = DecisionTreeClassifier(random_state=156)\n",
    "kfold = KFold(n_splits=5,shuffle=True)"
   ]
  },
  {
   "cell_type": "code",
   "execution_count": 73,
   "id": "984303b1-36bf-497d-b038-3a2639581af2",
   "metadata": {
    "tags": []
   },
   "outputs": [
    {
     "name": "stdout",
     "output_type": "stream",
     "text": [
      "[  0   1   2   3   4   7   8   9  10  11  12  13  14  15  16  17  18  19\n",
      "  20  21  22  25  26  27  29  30  31  32  33  34  35  36  37  38  40  41\n",
      "  42  43  44  45  46  47  48  50  52  55  56  59  60  61  62  63  64  65\n",
      "  66  67  68  69  70  71  72  75  76  77  78  79  80  81  82  84  86  87\n",
      "  89  90  92  93  95  96  97  98 100 102 103 104 106 107 108 109 111 113\n",
      " 114 115 117 118 119 120 121 122 123 125 127 128 129 130 131 133 134 135\n",
      " 136 137 138 139 140 141 142 143 144 145 146 147]\n",
      "[  5   6  23  24  28  39  49  51  53  54  57  58  73  74  83  85  88  91\n",
      "  94  99 101 105 110 112 116 124 126 132 148 149]\n",
      "[  0   1   3   4   5   6   7   8   9  10  11  12  13  14  15  17  18  19\n",
      "  20  21  23  24  25  26  27  28  29  32  34  35  36  37  38  39  40  41\n",
      "  42  44  46  49  50  51  52  53  54  56  57  58  59  61  62  63  64  66\n",
      "  67  68  70  71  72  73  74  75  76  78  79  80  81  82  83  84  85  86\n",
      "  87  88  89  90  91  93  94  95  96  97  98  99 101 102 105 106 107 108\n",
      " 109 110 111 112 115 116 117 119 120 121 123 124 125 126 127 129 131 132\n",
      " 133 134 135 136 139 141 142 143 144 146 148 149]\n",
      "[  2  16  22  30  31  33  43  45  47  48  55  60  65  69  77  92 100 103\n",
      " 104 113 114 118 122 128 130 137 138 140 145 147]\n",
      "[  0   2   4   5   6   7   8  10  11  12  14  16  18  20  21  22  23  24\n",
      "  25  26  27  28  29  30  31  33  35  37  39  40  41  42  43  44  45  46\n",
      "  47  48  49  50  51  52  53  54  55  56  57  58  59  60  61  63  64  65\n",
      "  66  67  68  69  70  72  73  74  77  78  79  80  81  82  83  85  86  88\n",
      "  90  91  92  94  95  96  98  99 100 101 102 103 104 105 106 107 109 110\n",
      " 111 112 113 114 115 116 118 119 120 121 122 123 124 125 126 128 130 131\n",
      " 132 134 135 136 137 138 140 144 145 147 148 149]\n",
      "[  1   3   9  13  15  17  19  32  34  36  38  62  71  75  76  84  87  89\n",
      "  93  97 108 117 127 129 133 139 141 142 143 146]\n",
      "[  1   2   3   4   5   6   8   9  10  11  12  13  14  15  16  17  19  22\n",
      "  23  24  26  27  28  29  30  31  32  33  34  35  36  37  38  39  42  43\n",
      "  44  45  46  47  48  49  50  51  53  54  55  57  58  59  60  62  65  66\n",
      "  67  69  70  71  72  73  74  75  76  77  78  83  84  85  86  87  88  89\n",
      "  90  91  92  93  94  97  99 100 101 103 104 105 106 108 110 112 113 114\n",
      " 116 117 118 120 121 122 124 125 126 127 128 129 130 131 132 133 134 135\n",
      " 137 138 139 140 141 142 143 145 146 147 148 149]\n",
      "[  0   7  18  20  21  25  40  41  52  56  61  63  64  68  79  80  81  82\n",
      "  95  96  98 102 107 109 111 115 119 123 136 144]\n",
      "[  0   1   2   3   5   6   7   9  13  15  16  17  18  19  20  21  22  23\n",
      "  24  25  28  30  31  32  33  34  36  38  39  40  41  43  45  47  48  49\n",
      "  51  52  53  54  55  56  57  58  60  61  62  63  64  65  68  69  71  73\n",
      "  74  75  76  77  79  80  81  82  83  84  85  87  88  89  91  92  93  94\n",
      "  95  96  97  98  99 100 101 102 103 104 105 107 108 109 110 111 112 113\n",
      " 114 115 116 117 118 119 122 123 124 126 127 128 129 130 132 133 136 137\n",
      " 138 139 140 141 142 143 144 145 146 147 148 149]\n",
      "[  4   8  10  11  12  14  26  27  29  35  37  42  44  46  50  59  66  67\n",
      "  70  72  78  86  90 106 120 121 125 131 134 135]\n"
     ]
    }
   ],
   "source": [
    "# 데이터 확인\n",
    "for train_index, test_index in kfold.split(iris.data) :\n",
    "    print(train_index)\n",
    "    print(test_index)"
   ]
  },
  {
   "cell_type": "code",
   "execution_count": 74,
   "id": "68ce8ae0-3b93-47bf-b9f3-ac55847368a8",
   "metadata": {},
   "outputs": [
    {
     "name": "stdout",
     "output_type": "stream",
     "text": [
      "1번째, 정확도: 0.8666666666666667\n",
      "테스트 리스트: [0 0 0 0 0 0 0 0 0 0 0 0 1 1 1 1 1 1 1 1 1 1 2 2 2 2 2 2 2 2]\n",
      "2번째, 정확도: 1.0\n",
      "테스트 리스트: [0 0 0 0 0 0 0 0 1 1 1 1 1 1 2 2 2 2 2 2 2 2 2 2 2 2 2 2 2 2]\n",
      "3번째, 정확도: 0.9333333333333333\n",
      "테스트 리스트: [0 0 0 0 0 0 0 0 1 1 1 1 1 1 1 1 1 1 2 2 2 2 2 2 2 2 2 2 2 2]\n",
      "4번째, 정확도: 0.9333333333333333\n",
      "테스트 리스트: [0 0 0 0 0 0 0 0 0 1 1 1 1 1 1 1 1 1 1 1 1 1 1 1 1 2 2 2 2 2]\n",
      "5번째, 정확도: 0.9666666666666667\n",
      "테스트 리스트: [0 0 0 0 0 0 0 0 0 0 0 0 0 1 1 1 1 1 1 1 1 2 2 2 2 2 2 2 2 2]\n"
     ]
    }
   ],
   "source": [
    "cv_accuracy = []\n",
    "# 정확도 저장용 리스트\n",
    "\n",
    "n_iter = 0\n",
    "# 몇번 반복 하는지\n",
    "\n",
    "for train_index, test_index in kfold.split(iris.data):\n",
    "    # print(train_index)\n",
    "    # print(test_index)\n",
    "    X_train, X_test = iris.data[train_index],iris.data[test_index]\n",
    "    y_train, y_test = iris.target[train_index],iris.target[test_index]\n",
    "    dt_clf.fit(X_train,y_train)\n",
    "    pred = dt_clf.predict(X_test)\n",
    "    n_iter += 1\n",
    "    accuracy = accuracy_score(y_test,pred)\n",
    "    cv_accuracy.append(accuracy)\n",
    "    print(f'{n_iter}번째, 정확도: {accuracy}')\n",
    "    print(f'테스트 리스트: {y_test}')"
   ]
  },
  {
   "cell_type": "code",
   "execution_count": 75,
   "id": "ecfbb430-2d8d-4151-9ac4-972b74866268",
   "metadata": {},
   "outputs": [
    {
     "data": {
      "text/plain": [
       "0.9400000000000001"
      ]
     },
     "execution_count": 75,
     "metadata": {},
     "output_type": "execute_result"
    }
   ],
   "source": [
    "np.mean(cv_accuracy)"
   ]
  },
  {
   "cell_type": "code",
   "execution_count": 76,
   "id": "cd0f4af1-ed1c-47e8-a156-b85ecfcab6a6",
   "metadata": {},
   "outputs": [],
   "source": [
    "data = load_iris(as_frame=True)"
   ]
  },
  {
   "cell_type": "code",
   "execution_count": 77,
   "id": "e5c32f22-9f51-4a69-add2-8fa6b1026bc2",
   "metadata": {},
   "outputs": [
    {
     "data": {
      "text/plain": [
       "0    50\n",
       "1    50\n",
       "2    50\n",
       "Name: target, dtype: int64"
      ]
     },
     "execution_count": 77,
     "metadata": {},
     "output_type": "execute_result"
    }
   ],
   "source": [
    "# data.target 은 콜럼이 하나이기 때문에 시리즈로 반환된다.\n",
    "data.target.value_counts()"
   ]
  },
  {
   "cell_type": "code",
   "execution_count": null,
   "id": "ceacf272-f2ef-4ac1-9233-4dfce9aca6de",
   "metadata": {},
   "outputs": [],
   "source": []
  },
  {
   "cell_type": "code",
   "execution_count": 78,
   "id": "f76bcd4e-a802-4f44-af71-4fe4e0a0a330",
   "metadata": {},
   "outputs": [
    {
     "name": "stdout",
     "output_type": "stream",
     "text": [
      "1번째, 정확도: 0.0\n",
      "테스트 리스트: [0 0 0 0 0 0 0 0 0 0 0 0 0 0 0 0 0 0 0 0 0 0 0 0 0 0 0 0 0 0 0 0 0 0 0 0 0\n",
      " 0 0 0 0 0 0 0 0 0 0 0 0 0]\n",
      "2번째, 정확도: 0.0\n",
      "테스트 리스트: [1 1 1 1 1 1 1 1 1 1 1 1 1 1 1 1 1 1 1 1 1 1 1 1 1 1 1 1 1 1 1 1 1 1 1 1 1\n",
      " 1 1 1 1 1 1 1 1 1 1 1 1 1]\n",
      "3번째, 정확도: 0.0\n",
      "테스트 리스트: [2 2 2 2 2 2 2 2 2 2 2 2 2 2 2 2 2 2 2 2 2 2 2 2 2 2 2 2 2 2 2 2 2 2 2 2 2\n",
      " 2 2 2 2 2 2 2 2 2 2 2 2 2]\n"
     ]
    }
   ],
   "source": [
    "kfold = KFold(n_splits=3,shuffle=False)\n",
    "# shuffle=False , 원본데이터 3가지 경우 동일 개수, 레이블 순서대로 -> 삼등분 동일 레이블로만 이루어진채 3등분 -> 일종의 논리 에러 발생\n",
    "\n",
    "cv_accuracy = []\n",
    "# 정확도 저장용 리스트\n",
    "\n",
    "n_iter = 0\n",
    "# 몇번 반복 하는지\n",
    "\n",
    "for train_index, test_index in kfold.split(iris.data):\n",
    "    # print(train_index)\n",
    "    # print(test_index)\n",
    "    X_train, X_test = iris.data[train_index],iris.data[test_index]\n",
    "    y_train, y_test = iris.target[train_index],iris.target[test_index]\n",
    "    dt_clf.fit(X_train,y_train)\n",
    "    pred = dt_clf.predict(X_test)\n",
    "    n_iter += 1\n",
    "    accuracy = accuracy_score(y_test,pred)\n",
    "    cv_accuracy.append(accuracy)\n",
    "    print(f'{n_iter}번째, 정확도: {accuracy}')\n",
    "    print(f'테스트 리스트: {y_test}')"
   ]
  },
  {
   "cell_type": "code",
   "execution_count": 80,
   "id": "4d319e1b-afbd-4eda-9841-d1affeda641c",
   "metadata": {},
   "outputs": [
    {
     "name": "stdout",
     "output_type": "stream",
     "text": [
      "1번째, 정확도: 0.92\n",
      "테스트 리스트: [0 0 0 0 0 0 0 0 0 0 0 0 0 0 0 1 1 1 1 1 1 1 1 1 1 1 1 1 1 1 1 1 1 1 2 2 2\n",
      " 2 2 2 2 2 2 2 2 2 2 2 2 2]\n",
      "2번째, 정확도: 0.92\n",
      "테스트 리스트: [0 0 0 0 0 0 0 0 0 0 0 0 0 0 0 0 0 1 1 1 1 1 1 1 1 1 1 1 1 1 2 2 2 2 2 2 2\n",
      " 2 2 2 2 2 2 2 2 2 2 2 2 2]\n",
      "3번째, 정확도: 0.96\n",
      "테스트 리스트: [0 0 0 0 0 0 0 0 0 0 0 0 0 0 0 0 0 0 1 1 1 1 1 1 1 1 1 1 1 1 1 1 1 1 1 1 2\n",
      " 2 2 2 2 2 2 2 2 2 2 2 2 2]\n"
     ]
    }
   ],
   "source": [
    "kfold = KFold(n_splits=3,shuffle=True)\n",
    "# shuffle=False , 원본데이터 3가지 경우 동일 개수 -> 일종의 논리 문제\n",
    "\n",
    "cv_accuracy = []\n",
    "# 정확도 저장용 리스트\n",
    "\n",
    "n_iter = 0\n",
    "# 몇번 반복 하는지\n",
    "\n",
    "for train_index, test_index in kfold.split(iris.data):\n",
    "    # print(train_index)\n",
    "    # print(test_index)\n",
    "    X_train, X_test = iris.data[train_index],iris.data[test_index]\n",
    "    y_train, y_test = iris.target[train_index],iris.target[test_index]\n",
    "    dt_clf.fit(X_train,y_train)\n",
    "    pred = dt_clf.predict(X_test)\n",
    "    n_iter += 1\n",
    "    accuracy = accuracy_score(y_test,pred)\n",
    "    cv_accuracy.append(accuracy)\n",
    "    print(f'{n_iter}번째, 정확도: {accuracy}')\n",
    "    print(f'테스트 리스트: {y_test}')"
   ]
  },
  {
   "cell_type": "code",
   "execution_count": 81,
   "id": "bef88a0a-32c9-4632-acd1-b633f7ede9bc",
   "metadata": {},
   "outputs": [
    {
     "data": {
      "text/plain": [
       "0.9333333333333332"
      ]
     },
     "execution_count": 81,
     "metadata": {},
     "output_type": "execute_result"
    }
   ],
   "source": [
    "np.mean(cv_accuracy)"
   ]
  },
  {
   "cell_type": "code",
   "execution_count": 82,
   "id": "5ba9547e-4b1e-48d0-ae7f-d2e4bf221826",
   "metadata": {},
   "outputs": [
    {
     "name": "stdout",
     "output_type": "stream",
     "text": [
      "1번째, 정확도: 0.98\n",
      "테스트 리스트: [0 0 0 0 0 0 0 0 0 0 0 0 0 0 0 0 0 1 1 1 1 1 1 1 1 1 1 1 1 1 1 1 1 1 2 2 2\n",
      " 2 2 2 2 2 2 2 2 2 2 2 2 2]\n",
      "2번째, 정확도: 0.94\n",
      "테스트 리스트: [0 0 0 0 0 0 0 0 0 0 0 0 0 0 0 0 0 1 1 1 1 1 1 1 1 1 1 1 1 1 1 1 1 2 2 2 2\n",
      " 2 2 2 2 2 2 2 2 2 2 2 2 2]\n",
      "3번째, 정확도: 0.98\n",
      "테스트 리스트: [0 0 0 0 0 0 0 0 0 0 0 0 0 0 0 0 1 1 1 1 1 1 1 1 1 1 1 1 1 1 1 1 1 2 2 2 2\n",
      " 2 2 2 2 2 2 2 2 2 2 2 2 2]\n"
     ]
    }
   ],
   "source": [
    "# StratifiedKFold 비율 문제 해결\n",
    "\n",
    "kfold = StratifiedKFold(n_splits=3,shuffle=False)\n",
    "# StratifiedKFold 레이블의 비율을 따진다.\n",
    "\n",
    "cv_accuracy = []\n",
    "# 정확도 저장용 리스트\n",
    "\n",
    "n_iter = 0\n",
    "# 몇번 반복 하는지\n",
    "\n",
    "for train_index, test_index in kfold.split(iris.data, iris.target):\n",
    "    # print(train_index)\n",
    "    # print(test_index)\n",
    "    X_train, X_test = iris.data[train_index],iris.data[test_index]\n",
    "    y_train, y_test = iris.target[train_index],iris.target[test_index]\n",
    "    dt_clf.fit(X_train,y_train)\n",
    "    pred = dt_clf.predict(X_test)\n",
    "    n_iter += 1\n",
    "    accuracy = accuracy_score(y_test,pred)\n",
    "    cv_accuracy.append(accuracy)\n",
    "    print(f'{n_iter}번째, 정확도: {accuracy}')\n",
    "    print(f'테스트 리스트: {y_test}')"
   ]
  },
  {
   "cell_type": "code",
   "execution_count": 83,
   "id": "1eaa8d03-0720-4f0b-83bf-dd6ad3557c82",
   "metadata": {},
   "outputs": [
    {
     "data": {
      "text/plain": [
       "0.9666666666666667"
      ]
     },
     "execution_count": 83,
     "metadata": {},
     "output_type": "execute_result"
    }
   ],
   "source": [
    "np.mean(cv_accuracy)"
   ]
  },
  {
   "cell_type": "code",
   "execution_count": 64,
   "id": "17f94cfb-5cf8-43ca-9e87-c04382ec5121",
   "metadata": {
    "tags": []
   },
   "outputs": [
    {
     "name": "stdout",
     "output_type": "stream",
     "text": [
      "학습데이터 분포: 2    34\n",
      "0    33\n",
      "1    33\n",
      "Name: target, dtype: int64\n",
      "검증데이터 분포: 0    17\n",
      "1    17\n",
      "2    16\n",
      "Name: target, dtype: int64\n",
      "1번째, 정확도: 0.98\n",
      "학습데이터 분포: 1    34\n",
      "0    33\n",
      "2    33\n",
      "Name: target, dtype: int64\n",
      "검증데이터 분포: 0    17\n",
      "2    17\n",
      "1    16\n",
      "Name: target, dtype: int64\n",
      "2번째, 정확도: 0.94\n",
      "학습데이터 분포: 0    34\n",
      "1    33\n",
      "2    33\n",
      "Name: target, dtype: int64\n",
      "검증데이터 분포: 1    17\n",
      "2    17\n",
      "0    16\n",
      "Name: target, dtype: int64\n",
      "3번째, 정확도: 0.98\n"
     ]
    }
   ],
   "source": [
    "# 데이터가 데이터 프레임 일때\n",
    "\n",
    "kfold = StratifiedKFold(n_splits=3,shuffle=False)\n",
    "# StratifiedKFold 레이블의 비율을 따진다.\n",
    "\n",
    "cv_accuracy = []\n",
    "# 정확도 저장용 리스트\n",
    "\n",
    "n_iter = 0\n",
    "# 몇번 반복 하는지\n",
    "iris = load_iris(as_frame=True)\n",
    "# DataFrame 형식 일 때, 어떻게 달라지는 지 확인\n",
    "\n",
    "for train_index, test_index in kfold.split(iris.data, iris.target):\n",
    "    # print(train_index)\n",
    "    # print(test_index)\n",
    "    X_train, X_test = iris.data.iloc[train_index],iris.data.iloc[test_index]\n",
    "    y_train, y_test = iris.target.iloc[train_index],iris.target.iloc[test_index]\n",
    "    print('학습데이터 분포:', y_train.value_counts())\n",
    "    print('검증데이터 분포:', y_test.value_counts())\n",
    "    dt_clf.fit(X_train,y_train)\n",
    "    pred = dt_clf.predict(X_test)\n",
    "    n_iter += 1\n",
    "    accuracy = accuracy_score(y_test,pred)\n",
    "    cv_accuracy.append(accuracy)\n",
    "    print(f'{n_iter}번째, 정확도: {accuracy}')\n",
    "    #print(f'테스트 리스트: {y_test}')"
   ]
  },
  {
   "cell_type": "code",
   "execution_count": 65,
   "id": "235cd3ad-cece-4442-ab7b-5f5aa7db43ff",
   "metadata": {},
   "outputs": [
    {
     "data": {
      "text/plain": [
       "0.9666666666666667"
      ]
     },
     "execution_count": 65,
     "metadata": {},
     "output_type": "execute_result"
    }
   ],
   "source": [
    "np.mean(cv_accuracy)"
   ]
  },
  {
   "cell_type": "markdown",
   "id": "fc8afce9-9203-4ca1-8457-c0320c2748ec",
   "metadata": {},
   "source": [
    "데이터 불균형 문제\n",
    "암환자의 비율은 10%\n",
    "데이터 교차 검증도 이 비율을 맞춰서 넣어줄 필요가 잇다."
   ]
  },
  {
   "cell_type": "code",
   "execution_count": 18,
   "id": "8b8ad22d-004f-4d88-aca6-853c70a8afcc",
   "metadata": {},
   "outputs": [],
   "source": [
    "from sklearn.model_selection import cross_val_score"
   ]
  },
  {
   "cell_type": "code",
   "execution_count": 19,
   "id": "89435069-19e9-469d-8e1e-e715d631428f",
   "metadata": {},
   "outputs": [
    {
     "data": {
      "text/plain": [
       "array([0.98, 0.94, 0.98])"
      ]
     },
     "execution_count": 19,
     "metadata": {},
     "output_type": "execute_result"
    }
   ],
   "source": [
    "df_clf = DecisionTreeClassifier(random_state=156)\n",
    "iris = load_iris()\n",
    "cross_val_score(df_clf,iris.data,iris.target,cv=3)\n",
    "\n",
    "#     DecisionTreeClassifier의 옵션\n",
    "#     max_depth=None,\n",
    "#     min_samples_split=2,\n",
    "#     min_samples_leaf=1,\n",
    "#     min_weight_fraction_leaf=0.0,\n",
    "#     max_features=None,\n",
    "# 어떻게 설정할 지가 관건이다."
   ]
  },
  {
   "cell_type": "code",
   "execution_count": null,
   "id": "edc07606-c62e-4e16-b35f-78774316ae0f",
   "metadata": {},
   "outputs": [],
   "source": []
  },
  {
   "cell_type": "code",
   "execution_count": null,
   "id": "87717a16-a96a-4d8f-9129-73a367971fdf",
   "metadata": {},
   "outputs": [],
   "source": []
  },
  {
   "cell_type": "code",
   "execution_count": null,
   "id": "78926628-f737-4a23-b4bf-5e2561946471",
   "metadata": {},
   "outputs": [],
   "source": []
  },
  {
   "cell_type": "code",
   "execution_count": null,
   "id": "07f1c5a8-9ee3-4c73-8ceb-210d1c12beb3",
   "metadata": {},
   "outputs": [],
   "source": []
  },
  {
   "cell_type": "markdown",
   "id": "47945e06-d883-4613-af30-1af67ecbd82a",
   "metadata": {},
   "source": [
    "\n",
    "파라미터 튜닝\n",
    "\n",
    "모델 생성 시, 성능에 영향을 주는 구조적 옵션이 있다.\n",
    "\n",
    "성능을 개선하기 위해서 다양한 파라미터 걍우의 수를 테스트 하는 GridSearchCV 알아본다.   \n",
    "\n",
    "DecisionTreeClassifier의 옵션\n",
    "\n",
    "max_depth=None,\n",
    "\n",
    "min_samples_split=2,\n",
    "\n",
    "min_samples_leaf=1,\n",
    "\n",
    "min_weight_fraction_leaf=0.0,\n",
    "\n",
    "max_features=None,\n",
    "\n",
    "어떻게 설정할 지가 관건이다\n",
    "\n"
   ]
  },
  {
   "cell_type": "code",
   "execution_count": 20,
   "id": "f8674aa0-f48b-42d2-ab6e-0f42412bb0f7",
   "metadata": {},
   "outputs": [],
   "source": [
    "grid_param = {\n",
    "    'max_depth' : [1,2,3],\n",
    "    'min_samples_split' : [2,3],\n",
    "    }"
   ]
  },
  {
   "cell_type": "code",
   "execution_count": 21,
   "id": "a535248d-1bb8-4ac0-ba84-d810d0b73cfb",
   "metadata": {},
   "outputs": [],
   "source": [
    "from sklearn.model_selection import GridSearchCV, train_test_split\n",
    "import pandas as pd"
   ]
  },
  {
   "cell_type": "code",
   "execution_count": 22,
   "id": "28e0c47f-a671-4d5f-983f-7e4dcfc04889",
   "metadata": {},
   "outputs": [],
   "source": [
    "iris = load_iris()\n",
    "X_train, X_test, y_train, y_test = train_test_split(iris.data, iris.target, test_size=0.2, random_state=121)"
   ]
  },
  {
   "cell_type": "code",
   "execution_count": 23,
   "id": "03c5025d-6a4c-4b6f-ac0f-979fdba495a9",
   "metadata": {},
   "outputs": [],
   "source": [
    "dtree = DecisionTreeClassifier()\n",
    "## 시드를 정하지 않았다.\n",
    "grid_dtree = GridSearchCV(dtree,grid_param ,cv=3, refit=True)\n",
    "# grid_param 이용해 각 구조(옵션)의 값에 따른 정확도를 확인해 보았다."
   ]
  },
  {
   "cell_type": "code",
   "execution_count": 24,
   "id": "28ce4bd0-a518-4ab0-bb6f-264dbddee38f",
   "metadata": {},
   "outputs": [
    {
     "data": {
      "text/plain": [
       "GridSearchCV(cv=3, estimator=DecisionTreeClassifier(),\n",
       "             param_grid={'max_depth': [1, 2, 3], 'min_samples_split': [2, 3]})"
      ]
     },
     "execution_count": 24,
     "metadata": {},
     "output_type": "execute_result"
    }
   ],
   "source": [
    "grid_dtree.fit(X_train,y_train)"
   ]
  },
  {
   "cell_type": "code",
   "execution_count": 25,
   "id": "ccd42549-f9e8-49f8-a7c3-b0022d7318f9",
   "metadata": {},
   "outputs": [
    {
     "data": {
      "text/plain": [
       "array([1, 2, 1, 0, 0, 1, 1, 1, 1, 2, 2, 1, 1, 0, 0, 2, 1, 0, 2, 0, 2, 2,\n",
       "       1, 1, 1, 1, 0, 0, 2, 2])"
      ]
     },
     "execution_count": 25,
     "metadata": {},
     "output_type": "execute_result"
    }
   ],
   "source": [
    "grid_dtree.predict(X_test)"
   ]
  },
  {
   "cell_type": "code",
   "execution_count": 26,
   "id": "2aae9eef-69ba-423a-92f2-b439f96f9262",
   "metadata": {},
   "outputs": [],
   "source": [
    "df = pd.DataFrame(grid_dtree.cv_results_)"
   ]
  },
  {
   "cell_type": "code",
   "execution_count": 27,
   "id": "2821df7a-0cf8-43f3-be7e-4305782f0aeb",
   "metadata": {},
   "outputs": [
    {
     "data": {
      "text/plain": [
       "Index(['mean_fit_time', 'std_fit_time', 'mean_score_time', 'std_score_time',\n",
       "       'param_max_depth', 'param_min_samples_split', 'params',\n",
       "       'split0_test_score', 'split1_test_score', 'split2_test_score',\n",
       "       'mean_test_score', 'std_test_score', 'rank_test_score'],\n",
       "      dtype='object')"
      ]
     },
     "execution_count": 27,
     "metadata": {},
     "output_type": "execute_result"
    }
   ],
   "source": [
    "df.columns"
   ]
  },
  {
   "cell_type": "code",
   "execution_count": 28,
   "id": "36d04714-f646-4d58-ae24-3519f56802c5",
   "metadata": {},
   "outputs": [
    {
     "data": {
      "text/html": [
       "<div>\n",
       "<style scoped>\n",
       "    .dataframe tbody tr th:only-of-type {\n",
       "        vertical-align: middle;\n",
       "    }\n",
       "\n",
       "    .dataframe tbody tr th {\n",
       "        vertical-align: top;\n",
       "    }\n",
       "\n",
       "    .dataframe thead th {\n",
       "        text-align: right;\n",
       "    }\n",
       "</style>\n",
       "<table border=\"1\" class=\"dataframe\">\n",
       "  <thead>\n",
       "    <tr style=\"text-align: right;\">\n",
       "      <th></th>\n",
       "      <th>params</th>\n",
       "      <th>mean_test_score</th>\n",
       "      <th>rank_test_score</th>\n",
       "      <th>split0_test_score</th>\n",
       "      <th>split1_test_score</th>\n",
       "      <th>split2_test_score</th>\n",
       "    </tr>\n",
       "  </thead>\n",
       "  <tbody>\n",
       "    <tr>\n",
       "      <th>0</th>\n",
       "      <td>{'max_depth': 1, 'min_samples_split': 2}</td>\n",
       "      <td>0.700000</td>\n",
       "      <td>5</td>\n",
       "      <td>0.700</td>\n",
       "      <td>0.7</td>\n",
       "      <td>0.70</td>\n",
       "    </tr>\n",
       "    <tr>\n",
       "      <th>1</th>\n",
       "      <td>{'max_depth': 1, 'min_samples_split': 3}</td>\n",
       "      <td>0.700000</td>\n",
       "      <td>5</td>\n",
       "      <td>0.700</td>\n",
       "      <td>0.7</td>\n",
       "      <td>0.70</td>\n",
       "    </tr>\n",
       "    <tr>\n",
       "      <th>2</th>\n",
       "      <td>{'max_depth': 2, 'min_samples_split': 2}</td>\n",
       "      <td>0.958333</td>\n",
       "      <td>3</td>\n",
       "      <td>0.925</td>\n",
       "      <td>1.0</td>\n",
       "      <td>0.95</td>\n",
       "    </tr>\n",
       "    <tr>\n",
       "      <th>3</th>\n",
       "      <td>{'max_depth': 2, 'min_samples_split': 3}</td>\n",
       "      <td>0.958333</td>\n",
       "      <td>3</td>\n",
       "      <td>0.925</td>\n",
       "      <td>1.0</td>\n",
       "      <td>0.95</td>\n",
       "    </tr>\n",
       "    <tr>\n",
       "      <th>4</th>\n",
       "      <td>{'max_depth': 3, 'min_samples_split': 2}</td>\n",
       "      <td>0.975000</td>\n",
       "      <td>1</td>\n",
       "      <td>0.975</td>\n",
       "      <td>1.0</td>\n",
       "      <td>0.95</td>\n",
       "    </tr>\n",
       "    <tr>\n",
       "      <th>5</th>\n",
       "      <td>{'max_depth': 3, 'min_samples_split': 3}</td>\n",
       "      <td>0.975000</td>\n",
       "      <td>1</td>\n",
       "      <td>0.975</td>\n",
       "      <td>1.0</td>\n",
       "      <td>0.95</td>\n",
       "    </tr>\n",
       "  </tbody>\n",
       "</table>\n",
       "</div>"
      ],
      "text/plain": [
       "                                     params  mean_test_score  rank_test_score  \\\n",
       "0  {'max_depth': 1, 'min_samples_split': 2}         0.700000                5   \n",
       "1  {'max_depth': 1, 'min_samples_split': 3}         0.700000                5   \n",
       "2  {'max_depth': 2, 'min_samples_split': 2}         0.958333                3   \n",
       "3  {'max_depth': 2, 'min_samples_split': 3}         0.958333                3   \n",
       "4  {'max_depth': 3, 'min_samples_split': 2}         0.975000                1   \n",
       "5  {'max_depth': 3, 'min_samples_split': 3}         0.975000                1   \n",
       "\n",
       "   split0_test_score  split1_test_score  split2_test_score  \n",
       "0              0.700                0.7               0.70  \n",
       "1              0.700                0.7               0.70  \n",
       "2              0.925                1.0               0.95  \n",
       "3              0.925                1.0               0.95  \n",
       "4              0.975                1.0               0.95  \n",
       "5              0.975                1.0               0.95  "
      ]
     },
     "execution_count": 28,
     "metadata": {},
     "output_type": "execute_result"
    }
   ],
   "source": [
    "df[['params','mean_test_score','rank_test_score','split0_test_score','split1_test_score','split2_test_score']]"
   ]
  },
  {
   "cell_type": "code",
   "execution_count": 29,
   "id": "c118d992-61d5-4bba-aec0-387eb54f7fa2",
   "metadata": {},
   "outputs": [
    {
     "data": {
      "text/plain": [
       "{'max_depth': 3, 'min_samples_split': 2}"
      ]
     },
     "execution_count": 29,
     "metadata": {},
     "output_type": "execute_result"
    }
   ],
   "source": [
    "grid_dtree.best_params_"
   ]
  },
  {
   "cell_type": "code",
   "execution_count": 30,
   "id": "88d73854-cd2f-48b7-af06-d67cb3dcafa7",
   "metadata": {},
   "outputs": [
    {
     "data": {
      "text/plain": [
       "0.975"
      ]
     },
     "execution_count": 30,
     "metadata": {},
     "output_type": "execute_result"
    }
   ],
   "source": [
    "grid_dtree.best_score_"
   ]
  },
  {
   "cell_type": "code",
   "execution_count": 31,
   "id": "441ae998-d578-4187-92a2-bf0b7699b6b2",
   "metadata": {},
   "outputs": [],
   "source": [
    "pred = grid_dtree.best_estimator_.predict(X_test)"
   ]
  },
  {
   "cell_type": "code",
   "execution_count": 32,
   "id": "307b30b9-647c-41f8-b41d-574b9d451225",
   "metadata": {},
   "outputs": [
    {
     "data": {
      "text/plain": [
       "0.9666666666666667"
      ]
     },
     "execution_count": 32,
     "metadata": {},
     "output_type": "execute_result"
    }
   ],
   "source": [
    "accuracy_score(y_test,pred)"
   ]
  },
  {
   "cell_type": "code",
   "execution_count": 33,
   "id": "17eabb4f-95d3-4f6b-98e6-4e03fadcd812",
   "metadata": {},
   "outputs": [],
   "source": [
    "import math"
   ]
  },
  {
   "cell_type": "code",
   "execution_count": 34,
   "id": "8e9e53cd-6492-4999-873e-b3bb34be685a",
   "metadata": {},
   "outputs": [
    {
     "data": {
      "text/plain": [
       "(201, 402, 20.049937655763422, 20)"
      ]
     },
     "execution_count": 34,
     "metadata": {},
     "output_type": "execute_result"
    }
   ],
   "source": [
    "a = 201\n",
    "b = a * 2\n",
    "c = math.sqrt(b)\n",
    "d = int(c)\n",
    "\n",
    "if c == d :\n",
    "    d -= 1\n",
    "    \n",
    "\n",
    "a,b,c,d"
   ]
  },
  {
   "cell_type": "code",
   "execution_count": null,
   "id": "51651ee8-ef20-4711-9f42-c8fa4cde6c6c",
   "metadata": {},
   "outputs": [],
   "source": []
  },
  {
   "cell_type": "code",
   "execution_count": null,
   "id": "998d09b6-12c1-47c0-b8f0-8e55f13fcb78",
   "metadata": {},
   "outputs": [],
   "source": []
  }
 ],
 "metadata": {
  "kernelspec": {
   "display_name": "Python 3 (ipykernel)",
   "language": "python",
   "name": "python3"
  },
  "language_info": {
   "codemirror_mode": {
    "name": "ipython",
    "version": 3
   },
   "file_extension": ".py",
   "mimetype": "text/x-python",
   "name": "python",
   "nbconvert_exporter": "python",
   "pygments_lexer": "ipython3",
   "version": "3.9.13"
  }
 },
 "nbformat": 4,
 "nbformat_minor": 5
}
