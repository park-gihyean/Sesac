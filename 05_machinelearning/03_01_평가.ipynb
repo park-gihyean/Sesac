{
 "cells": [
  {
   "cell_type": "raw",
   "id": "d085064a-ac64-4f75-9782-ed51b5d10d4b",
   "metadata": {},
   "source": [
    "타이타닉 데이터의 경우 여자가 무조건 산다는 모델을 만들어도 80%의 정확도를 낼 수 있다.\n",
    "그렇다면 이 모델은 성능이 좋다고 할 수 있을까?\n",
    "\n",
    "이처럼 데이터의 결과가 한쪽으로 치우쳐져 있는 경우 어떤 평가 지표를 써야할까.\n",
    "\n",
    "오차 행렬\n",
    "오차 행렬은 \n",
    "TN FP\n",
    "FN TP  (T/F 맞춘여부, N/P 예측치)\n",
    "로 이루어진 행렬이다.\n",
    "\n",
    "이때 정밀도 TP/FP+TP (TP/P)  P 로 예측 했을 떄, 맞춘 비율\n",
    "재현율 TP/FN+TP 실제값이 P일때를 기준으로, 만춘 비율\n",
    "지표로 모델의 성능을 평가 할 수 있다."
   ]
  },
  {
   "cell_type": "code",
   "execution_count": 4,
   "id": "cbfad1c6-815b-4846-8905-8e564b93fb44",
   "metadata": {},
   "outputs": [],
   "source": [
    "from sklearn.preprocessing import LabelEncoder\n",
    "import numpy as np\n",
    "import seaborn as sn\n",
    "from sklearn.tree import DecisionTreeClassifier\n",
    "from sklearn.metrics import accuracy_score\n",
    "from sklearn.model_selection import train_test_split\n",
    "import pandas as pd"
   ]
  },
  {
   "cell_type": "code",
   "execution_count": 5,
   "id": "3205d648-612f-4a90-99f6-bb464917acb6",
   "metadata": {},
   "outputs": [],
   "source": [
    "# 여자가 무조건 산다는 예측을 내는 모델 생성\n",
    "from sklearn.base import BaseEstimator\n",
    "class MyDummyClassifitier(BaseEstimator):\n",
    "    # BaseEstimator 를 상속 받겠다\n",
    "    def fit(self,X,y=None):\n",
    "        # self 키워드, 다른 단어여도 상관은 없다.\n",
    "        # 내부적으로 자기 자신의 주소값을 받게 된다.\n",
    "        # 인자 전달 시에는 self는 없는 것 처럼 사용하면 된다.\n",
    "\n",
    "        pass\n",
    "        # pass 건너뛰겠다.\n",
    "        # 함수 정의 없이 넘어간다...?\n",
    "        # 이 경우는 상속만 받고 넘어가는 듯 하다.\n",
    "        \n",
    "    def predict(self, X):\n",
    "        pred = np.zeros((X.shape[0],1))\n",
    "        for i in range(X.shape[0]):\n",
    "            if X['Sex'].iloc[i] == 1 :\n",
    "                pred[i] = 0\n",
    "                # 남성 0 사망 처리\n",
    "            else :\n",
    "                pred[i] = 1\n",
    "                # 여성 1 생존 처리\n",
    "                \n",
    "        return pred\n",
    "            \n",
    "            \n",
    "# ['female' 'male']\n",
    "# ['A' 'B' 'C' 'D' 'E' 'F' 'G' 'N' 'T']\n",
    "# ['C' 'N' 'Q' 'S']"
   ]
  },
  {
   "cell_type": "code",
   "execution_count": 6,
   "id": "2ef49160-dc1f-4be9-ac23-5649eea805c5",
   "metadata": {},
   "outputs": [
    {
     "name": "stdout",
     "output_type": "stream",
     "text": [
      "['female' 'male']\n",
      "['A' 'B' 'C' 'D' 'E' 'F' 'G' 'N' 'T']\n",
      "['C' 'N' 'Q' 'S']\n"
     ]
    }
   ],
   "source": [
    "# 데이터 전처리\n",
    "def fillna(df) :\n",
    "    df['Age'].fillna(df['Age'].mean(),inplace=True)\n",
    "    df['Cabin'].fillna('N',inplace=True)\n",
    "    df['Embarked'].fillna('N',inplace=True)\n",
    "    df['Fare'].fillna(0,inplace=True)\n",
    "    return df\n",
    "    \n",
    "    \n",
    "\n",
    "def drop_features(df):\n",
    "    df.drop(columns = ['PassengerId','Name', 'Ticket'],inplace = True)\n",
    "    return df\n",
    "                \n",
    "\n",
    "def format_features(df):\n",
    "    df['Cabin'] = df['Cabin'].str[:1]\n",
    "    features = ['Sex', 'Cabin' , 'Embarked']\n",
    "        \n",
    "    for feature in features:\n",
    "        le = LabelEncoder()\n",
    "        df[feature] = le.fit_transform(df[feature])\n",
    "        print(le.classes_)\n",
    "    return df\n",
    "\n",
    "def transform_features(df):\n",
    "    df = fillna(df)\n",
    "    df = drop_features(df)\n",
    "    df = format_features(df)\n",
    "    return df\n",
    "\n",
    "\n",
    "\n",
    "df = pd.read_csv('titanic.csv')\n",
    "y = df['Survived']\n",
    "X = df.drop(columns=['Survived'])\n",
    "\n",
    "# Survived 데이터를 결과 값으로 사용\n",
    "\n",
    "X = transform_features(X)\n",
    "X_train, X_test,y_train,y_test = train_test_split(X,y,test_size=0.2, random_state=11)"
   ]
  },
  {
   "cell_type": "code",
   "execution_count": 9,
   "id": "8e6a3857-0ca8-475f-a76b-b2bdc841b5d7",
   "metadata": {},
   "outputs": [
    {
     "data": {
      "text/plain": [
       "0.8324022346368715"
      ]
     },
     "execution_count": 9,
     "metadata": {},
     "output_type": "execute_result"
    }
   ],
   "source": [
    "myclf = MyDummyClassifitier()\n",
    "myclf.fit(X_train, y_train)\n",
    "pred = myclf.predict(X_test)\n",
    "accuracy_score(y_test,pred)\n"
   ]
  },
  {
   "cell_type": "code",
   "execution_count": 10,
   "id": "35b5e3f1-a0b0-472f-9594-24cba328453a",
   "metadata": {},
   "outputs": [
    {
     "data": {
      "text/plain": [
       "0.8324022346368715"
      ]
     },
     "execution_count": 10,
     "metadata": {},
     "output_type": "execute_result"
    }
   ],
   "source": [
    "dt_clf = DecisionTreeClassifier(random_state=11)\n",
    "dt_clf.fit(X_train, y_train)\n",
    "pred_clf = dt_clf.predict(X_test)\n",
    "accuracy_score(y_test,pred)"
   ]
  },
  {
   "cell_type": "raw",
   "id": "e279c42f-96a1-420e-889d-8e1e308e128b",
   "metadata": {},
   "source": [
    "이진 분류에서 데이터의 불균형이 심할 때, 어떻게 평가해야 하는지 고려해야 한다."
   ]
  },
  {
   "cell_type": "code",
   "execution_count": null,
   "id": "134003f6-0d95-4697-9cec-082fbf32c3d0",
   "metadata": {},
   "outputs": [],
   "source": []
  },
  {
   "cell_type": "code",
   "execution_count": 11,
   "id": "071ef300-95df-43d5-8d75-e4b6c8437ad5",
   "metadata": {},
   "outputs": [],
   "source": [
    "from sklearn.metrics import confusion_matrix"
   ]
  },
  {
   "cell_type": "code",
   "execution_count": 12,
   "id": "c765fdd0-a066-4c8a-b83d-af5d9af3ba45",
   "metadata": {},
   "outputs": [
    {
     "data": {
      "text/plain": [
       "array([[103,  15],\n",
       "       [ 15,  46]], dtype=int64)"
      ]
     },
     "execution_count": 12,
     "metadata": {},
     "output_type": "execute_result"
    }
   ],
   "source": [
    "confusion_matrix(y_test,pred)"
   ]
  },
  {
   "cell_type": "code",
   "execution_count": 13,
   "id": "084959f0-e9df-41a3-822a-ee4216a7da0d",
   "metadata": {},
   "outputs": [
    {
     "data": {
      "text/plain": [
       "array([[99, 19],\n",
       "       [19, 42]], dtype=int64)"
      ]
     },
     "execution_count": 13,
     "metadata": {},
     "output_type": "execute_result"
    }
   ],
   "source": [
    "confusion_matrix(y_test,pred_clf)\n",
    "#정밀도도 재현율도 정확도도 낮다"
   ]
  },
  {
   "cell_type": "raw",
   "id": "f695b16a-b422-4c9e-83d3-2c3b349484cf",
   "metadata": {},
   "source": [
    "오차 행렬을 보고 모델을 신용을 확인한다.\n",
    "\n",
    "TN FP\n",
    "FN TP\n",
    "\n",
    "정확도 = T / T + F\n",
    "맞춘 횟수 / 전체 횟수\n",
    "\n",
    "정밀도 = TP / P\n",
    "1이라고 예측해서 맞춘 횟수 / 1이라고 예측한 횟수\n",
    "1이라고 예측한 값 기준\n",
    "\n",
    "재현율 = TP / (FN + TP)\n",
    "1이라고 예측해서 맞춘 횟수 / (0이라고 해서 틀린 횟수 + 1이라고 해서 예측해서 맞춘 횟수)\n",
    "실제 값이 1인 기준\n",
    "\n",
    "정밀도와 재현율은 서로 반비례한다.\n",
    "\n",
    "그렇다면 어떤 특성을 우선시 해야 하나?\n",
    "\n",
    "암환자  positive 인데 예측이 negative 일때 영향이 심각하다\n",
    "-> 재현율을 우선시 한다.\n",
    "\n",
    "스팸메일 negative인데 예측이 positive 일떄 영향이 심각하다.\n",
    "-> 정밀도를 우선시 한다. (정상메일 - 스팸이 아님 -> negative     그런데 예측이 positive 스팸메일 처리 되버리면 영향이 심각해진다.)"
   ]
  },
  {
   "cell_type": "code",
   "execution_count": null,
   "id": "903e6425-03bf-4aff-9979-acb904496fa2",
   "metadata": {},
   "outputs": [],
   "source": []
  },
  {
   "cell_type": "code",
   "execution_count": null,
   "id": "1e395be2-6cdf-4ef1-891d-d2cad842e316",
   "metadata": {},
   "outputs": [],
   "source": []
  }
 ],
 "metadata": {
  "kernelspec": {
   "display_name": "Python 3 (ipykernel)",
   "language": "python",
   "name": "python3"
  },
  "language_info": {
   "codemirror_mode": {
    "name": "ipython",
    "version": 3
   },
   "file_extension": ".py",
   "mimetype": "text/x-python",
   "name": "python",
   "nbconvert_exporter": "python",
   "pygments_lexer": "ipython3",
   "version": "3.9.13"
  }
 },
 "nbformat": 4,
 "nbformat_minor": 5
}
