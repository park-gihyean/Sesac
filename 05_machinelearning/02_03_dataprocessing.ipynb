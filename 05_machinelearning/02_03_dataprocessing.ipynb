{
 "cells": [
  {
   "cell_type": "raw",
   "id": "72181eae-1567-4ef4-94cf-02ad5074d8cb",
   "metadata": {},
   "source": [
    "ML 알고리즘은 데이터에 기반하고 있기 때문에, 데이터에 따라 결과가 크게 달라진다.\n",
    "Model의 좋고 나쁘고를 떠나서, 데이터도 좋아야한다.\n",
    "\n",
    "\n",
    "데이터 전처리\n",
    "문자열은 수치화 해야한다. 자연어 처리 과정을 거쳐야한디. 문맥적인 의미를 어떻게 할 것인지 고려해야한다.\n",
    "\n",
    "주민등록번호 같은 식별자는 데이터로써의 의미가 떨어진다. 물론 지역번호를 이용한 데이터 추출은 가능하다. 그래도, 주민등록번호 값 자체는 쓰이지 않는다."
   ]
  },
  {
   "cell_type": "code",
   "execution_count": 1,
   "id": "df3cb3c7-8402-4945-91f9-140be98163cb",
   "metadata": {},
   "outputs": [],
   "source": [
    "from sklearn.preprocessing import LabelEncoder"
   ]
  },
  {
   "cell_type": "code",
   "execution_count": 2,
   "id": "41d9ea90-37c3-46dd-8930-8ab309ef41af",
   "metadata": {},
   "outputs": [],
   "source": [
    "# 레이블 인코딩\n",
    "items= ['TV','냉장고','전자레인지','컴퓨터','선풍기','선풍기','믹서','믹서']\n",
    "encoder = LabelEncoder()\n",
    "encoder.fit(items)\n",
    "encoder.transform(items)\n",
    "# 새로 들어온 데이터는 fit을 하면 않된다.\n",
    "# 기존의 데이터가 사라진다.\n",
    "# 전체데이터 fit -> transform\n",
    "# 한번만에 fit이 안 될 수도 있다.\n",
    "# 이 경우 인코더 개체가 남아있어야한다.\n",
    "# 변경만 해야한다.\n",
    "\n",
    "# -> 추가해서 학습하는게 되지 않는다.\n",
    "# 처음에 데이터 수집할 때에, 당연히 전체 모집단을 대표 할 수 있는 표본 집단 암을 전제로 한다.\n",
    "\n",
    "labels = encoder.transform(items)\n",
    "\n",
    "\n",
    "# fit() 딕션어리 생성 목록 추출\n",
    "# transform() 데이터를 딕션어리 목록을 기반으로 변경"
   ]
  },
  {
   "cell_type": "code",
   "execution_count": 3,
   "id": "2d371900-712a-42a4-ad07-f9150c6a3ba0",
   "metadata": {},
   "outputs": [
    {
     "data": {
      "text/plain": [
       "array([0, 1, 4, 5, 3, 3, 2, 2])"
      ]
     },
     "execution_count": 3,
     "metadata": {},
     "output_type": "execute_result"
    }
   ],
   "source": [
    "labels"
   ]
  },
  {
   "cell_type": "code",
   "execution_count": 4,
   "id": "967535f1-2570-4fa3-8c0f-8f85891be06c",
   "metadata": {},
   "outputs": [
    {
     "data": {
      "text/plain": [
       "array([1])"
      ]
     },
     "execution_count": 4,
     "metadata": {},
     "output_type": "execute_result"
    }
   ],
   "source": [
    "encoder.transform(['냉장고'])"
   ]
  },
  {
   "cell_type": "code",
   "execution_count": 5,
   "id": "ae0c5a93-d2d3-4bad-b16e-1a2f01bfcbc6",
   "metadata": {},
   "outputs": [
    {
     "data": {
      "text/plain": [
       "array(['TV', '냉장고', '믹서', '선풍기', '전자레인지', '컴퓨터'], dtype='<U5')"
      ]
     },
     "execution_count": 5,
     "metadata": {},
     "output_type": "execute_result"
    }
   ],
   "source": [
    "encoder.classes_\n",
    "# 원래 무슨 데이터개체(의미)인지 볼 수 있다."
   ]
  },
  {
   "cell_type": "code",
   "execution_count": 6,
   "id": "7d5fd391-9047-4d4c-b4b9-df01547bbd0a",
   "metadata": {},
   "outputs": [
    {
     "data": {
      "text/plain": [
       "array(['냉장고'], dtype='<U5')"
      ]
     },
     "execution_count": 6,
     "metadata": {},
     "output_type": "execute_result"
    }
   ],
   "source": [
    "encoder.inverse_transform([1])\n",
    "# 본래 무슨 데이터 개체인지 반환해준다."
   ]
  },
  {
   "cell_type": "code",
   "execution_count": 7,
   "id": "f04f1448-7c3e-4444-9cfb-e5948d1f54a8",
   "metadata": {},
   "outputs": [
    {
     "data": {
      "text/plain": [
       "array(['TV', '냉장고', '전자레인지', '컴퓨터', '선풍기', '선풍기', '믹서', '믹서'], dtype='<U5')"
      ]
     },
     "execution_count": 7,
     "metadata": {},
     "output_type": "execute_result"
    }
   ],
   "source": [
    "encoder.inverse_transform(labels)"
   ]
  },
  {
   "cell_type": "raw",
   "id": "652bf4a4-ac6d-477d-a9ce-1ad6495e92e2",
   "metadata": {},
   "source": [
    "레이블 인코딩은 문제가 없느냐?\n",
    "레이블 인코딩은 카테고리 분류를 위해 숫자값을 썼음으로, 숫자의 크기는 의미가 없다.\n",
    "하지만 데이터 학습 시 (특히, 회귀 방식) 숫자의 크기는 영향이 있다. (분류 쪽은 거의 영향이 없다.)단순히 숫자의 크기가 크면 더 중요한 데이터로 처리 될 여지가 있다."
   ]
  },
  {
   "cell_type": "raw",
   "id": "adebe121-bcd9-4980-9f0a-019a0cf00977",
   "metadata": {},
   "source": [
    "One-Hot-Encoding\n",
    "컬럼의 종류 만큼 column 이 필요하다.\n",
    "레이블 인코딩의 문제가 개선된다.\n",
    "\n",
    "각 카테고리 마다 콜럼을 생성하고, 해당 카테코리에 해당 되면 1로, 아니면 0으로 수치화 된다."
   ]
  },
  {
   "cell_type": "code",
   "execution_count": 8,
   "id": "8c385d4d-3968-47af-b73d-a71513e84f79",
   "metadata": {},
   "outputs": [],
   "source": [
    "from sklearn.preprocessing import OneHotEncoder\n",
    "import numpy as np"
   ]
  },
  {
   "cell_type": "code",
   "execution_count": 37,
   "id": "0d7653cb-ff2e-4582-bb65-7bd3c837214e",
   "metadata": {},
   "outputs": [
    {
     "data": {
      "text/plain": [
       "array([['TV'],\n",
       "       ['냉장고'],\n",
       "       ['전자레인지'],\n",
       "       ['컴퓨터'],\n",
       "       ['선풍기'],\n",
       "       ['선풍기'],\n",
       "       ['믹서'],\n",
       "       ['믹서']], dtype='<U5')"
      ]
     },
     "execution_count": 37,
     "metadata": {},
     "output_type": "execute_result"
    }
   ],
   "source": [
    " np.array(items).reshape(-1,1)"
   ]
  },
  {
   "cell_type": "code",
   "execution_count": 9,
   "id": "e08b8106-bfbe-4136-8789-45b8aebf5d46",
   "metadata": {},
   "outputs": [],
   "source": [
    "# ONE-HOT 인코딩\n",
    "items\n",
    "items_t = np.array(items).reshape(-1,1)\n",
    "items_l = [['TV'],\n",
    "       ['냉장고'],\n",
    "       ['전자레인지'],\n",
    "       ['컴퓨터'],\n",
    "       ['선풍기'],\n",
    "       ['선풍기'],\n",
    "       ['믹서'],\n",
    "       ['믹서']]"
   ]
  },
  {
   "cell_type": "code",
   "execution_count": 10,
   "id": "94df854d-4967-448f-b15b-ee70ce6e5c20",
   "metadata": {},
   "outputs": [
    {
     "data": {
      "text/plain": [
       "array([[1., 0., 0., 0., 0., 0.],\n",
       "       [0., 1., 0., 0., 0., 0.],\n",
       "       [0., 0., 0., 0., 1., 0.],\n",
       "       [0., 0., 0., 0., 0., 1.],\n",
       "       [0., 0., 0., 1., 0., 0.],\n",
       "       [0., 0., 0., 1., 0., 0.],\n",
       "       [0., 0., 1., 0., 0., 0.],\n",
       "       [0., 0., 1., 0., 0., 0.]])"
      ]
     },
     "execution_count": 10,
     "metadata": {},
     "output_type": "execute_result"
    }
   ],
   "source": [
    "oh_encoder = OneHotEncoder()\n",
    "oh_encoder.fit(items_t)\n",
    "result = oh_encoder.transform(items_t)\n",
    "result.toarray()"
   ]
  },
  {
   "cell_type": "code",
   "execution_count": 12,
   "id": "c42b0dbc-a09c-44c9-8506-556620997b17",
   "metadata": {},
   "outputs": [
    {
     "data": {
      "text/plain": [
       "[array(['TV', '냉장고', '믹서', '선풍기', '전자레인지', '컴퓨터'], dtype=object)]"
      ]
     },
     "execution_count": 12,
     "metadata": {},
     "output_type": "execute_result"
    }
   ],
   "source": [
    "oh_encoder.categories_"
   ]
  },
  {
   "cell_type": "code",
   "execution_count": 13,
   "id": "51b5d136-445d-47b4-a8b5-863abc0a290a",
   "metadata": {},
   "outputs": [
    {
     "data": {
      "text/plain": [
       "array([['TV']], dtype=object)"
      ]
     },
     "execution_count": 13,
     "metadata": {},
     "output_type": "execute_result"
    }
   ],
   "source": [
    "oh_encoder.inverse_transform([[1.,0.,0.,0.,0.,0.]])"
   ]
  },
  {
   "cell_type": "code",
   "execution_count": 14,
   "id": "5f393828-fbc1-4f86-ba0a-1ec9dd40f25b",
   "metadata": {},
   "outputs": [
    {
     "data": {
      "text/plain": [
       "array([[0., 1., 0., 0., 0., 0.]])"
      ]
     },
     "execution_count": 14,
     "metadata": {},
     "output_type": "execute_result"
    }
   ],
   "source": [
    "oh_encoder.transform([['냉장고']]).toarray()"
   ]
  },
  {
   "cell_type": "code",
   "execution_count": 15,
   "id": "f43bbeed-040c-4887-93f4-9b4830dd6b02",
   "metadata": {},
   "outputs": [],
   "source": [
    "# 데이터 프레임에 원핫 인코딩 적용\n",
    "import pandas as pd"
   ]
  },
  {
   "cell_type": "code",
   "execution_count": 16,
   "id": "761f4d9d-f5a2-43c2-a18b-2d02a607f213",
   "metadata": {},
   "outputs": [],
   "source": [
    "df = pd.DataFrame({'item': ['TV','냉장고','전자레인지','컴퓨터','선풍기','선풍기','믹서','믹서']})"
   ]
  },
  {
   "cell_type": "code",
   "execution_count": 17,
   "id": "00e00a00-e4d9-4ec9-8bc3-fb9fe79b9bed",
   "metadata": {},
   "outputs": [
    {
     "data": {
      "text/html": [
       "<div>\n",
       "<style scoped>\n",
       "    .dataframe tbody tr th:only-of-type {\n",
       "        vertical-align: middle;\n",
       "    }\n",
       "\n",
       "    .dataframe tbody tr th {\n",
       "        vertical-align: top;\n",
       "    }\n",
       "\n",
       "    .dataframe thead th {\n",
       "        text-align: right;\n",
       "    }\n",
       "</style>\n",
       "<table border=\"1\" class=\"dataframe\">\n",
       "  <thead>\n",
       "    <tr style=\"text-align: right;\">\n",
       "      <th></th>\n",
       "      <th>TV</th>\n",
       "      <th>냉장고</th>\n",
       "      <th>믹서</th>\n",
       "      <th>선풍기</th>\n",
       "      <th>전자레인지</th>\n",
       "      <th>컴퓨터</th>\n",
       "    </tr>\n",
       "  </thead>\n",
       "  <tbody>\n",
       "    <tr>\n",
       "      <th>0</th>\n",
       "      <td>1</td>\n",
       "      <td>0</td>\n",
       "      <td>0</td>\n",
       "      <td>0</td>\n",
       "      <td>0</td>\n",
       "      <td>0</td>\n",
       "    </tr>\n",
       "    <tr>\n",
       "      <th>1</th>\n",
       "      <td>0</td>\n",
       "      <td>1</td>\n",
       "      <td>0</td>\n",
       "      <td>0</td>\n",
       "      <td>0</td>\n",
       "      <td>0</td>\n",
       "    </tr>\n",
       "    <tr>\n",
       "      <th>2</th>\n",
       "      <td>0</td>\n",
       "      <td>0</td>\n",
       "      <td>0</td>\n",
       "      <td>0</td>\n",
       "      <td>1</td>\n",
       "      <td>0</td>\n",
       "    </tr>\n",
       "    <tr>\n",
       "      <th>3</th>\n",
       "      <td>0</td>\n",
       "      <td>0</td>\n",
       "      <td>0</td>\n",
       "      <td>0</td>\n",
       "      <td>0</td>\n",
       "      <td>1</td>\n",
       "    </tr>\n",
       "    <tr>\n",
       "      <th>4</th>\n",
       "      <td>0</td>\n",
       "      <td>0</td>\n",
       "      <td>0</td>\n",
       "      <td>1</td>\n",
       "      <td>0</td>\n",
       "      <td>0</td>\n",
       "    </tr>\n",
       "    <tr>\n",
       "      <th>5</th>\n",
       "      <td>0</td>\n",
       "      <td>0</td>\n",
       "      <td>0</td>\n",
       "      <td>1</td>\n",
       "      <td>0</td>\n",
       "      <td>0</td>\n",
       "    </tr>\n",
       "    <tr>\n",
       "      <th>6</th>\n",
       "      <td>0</td>\n",
       "      <td>0</td>\n",
       "      <td>1</td>\n",
       "      <td>0</td>\n",
       "      <td>0</td>\n",
       "      <td>0</td>\n",
       "    </tr>\n",
       "    <tr>\n",
       "      <th>7</th>\n",
       "      <td>0</td>\n",
       "      <td>0</td>\n",
       "      <td>1</td>\n",
       "      <td>0</td>\n",
       "      <td>0</td>\n",
       "      <td>0</td>\n",
       "    </tr>\n",
       "  </tbody>\n",
       "</table>\n",
       "</div>"
      ],
      "text/plain": [
       "   TV  냉장고  믹서  선풍기  전자레인지  컴퓨터\n",
       "0   1    0   0    0      0    0\n",
       "1   0    1   0    0      0    0\n",
       "2   0    0   0    0      1    0\n",
       "3   0    0   0    0      0    1\n",
       "4   0    0   0    1      0    0\n",
       "5   0    0   0    1      0    0\n",
       "6   0    0   1    0      0    0\n",
       "7   0    0   1    0      0    0"
      ]
     },
     "execution_count": 17,
     "metadata": {},
     "output_type": "execute_result"
    }
   ],
   "source": [
    "pd.get_dummies(df['item'])"
   ]
  },
  {
   "cell_type": "code",
   "execution_count": null,
   "id": "feb30aed-c61c-4b80-9bb5-296e4b01ec3e",
   "metadata": {},
   "outputs": [],
   "source": []
  },
  {
   "cell_type": "code",
   "execution_count": 18,
   "id": "77826907-8424-4538-b232-ad78865e91cc",
   "metadata": {},
   "outputs": [],
   "source": [
    "from sklearn.datasets import load_iris"
   ]
  },
  {
   "cell_type": "code",
   "execution_count": 19,
   "id": "8b8059e2-70ea-4ddd-a75f-e5573f6df396",
   "metadata": {},
   "outputs": [],
   "source": [
    "iris = load_iris(as_frame=True)"
   ]
  },
  {
   "cell_type": "code",
   "execution_count": 20,
   "id": "ca58efcf-918f-481a-a7f2-f7cf4136a557",
   "metadata": {},
   "outputs": [
    {
     "data": {
      "text/html": [
       "<div>\n",
       "<style scoped>\n",
       "    .dataframe tbody tr th:only-of-type {\n",
       "        vertical-align: middle;\n",
       "    }\n",
       "\n",
       "    .dataframe tbody tr th {\n",
       "        vertical-align: top;\n",
       "    }\n",
       "\n",
       "    .dataframe thead th {\n",
       "        text-align: right;\n",
       "    }\n",
       "</style>\n",
       "<table border=\"1\" class=\"dataframe\">\n",
       "  <thead>\n",
       "    <tr style=\"text-align: right;\">\n",
       "      <th></th>\n",
       "      <th>sepal length (cm)</th>\n",
       "      <th>sepal width (cm)</th>\n",
       "      <th>petal length (cm)</th>\n",
       "      <th>petal width (cm)</th>\n",
       "    </tr>\n",
       "  </thead>\n",
       "  <tbody>\n",
       "    <tr>\n",
       "      <th>0</th>\n",
       "      <td>5.1</td>\n",
       "      <td>3.5</td>\n",
       "      <td>1.4</td>\n",
       "      <td>0.2</td>\n",
       "    </tr>\n",
       "    <tr>\n",
       "      <th>1</th>\n",
       "      <td>4.9</td>\n",
       "      <td>3.0</td>\n",
       "      <td>1.4</td>\n",
       "      <td>0.2</td>\n",
       "    </tr>\n",
       "    <tr>\n",
       "      <th>2</th>\n",
       "      <td>4.7</td>\n",
       "      <td>3.2</td>\n",
       "      <td>1.3</td>\n",
       "      <td>0.2</td>\n",
       "    </tr>\n",
       "    <tr>\n",
       "      <th>3</th>\n",
       "      <td>4.6</td>\n",
       "      <td>3.1</td>\n",
       "      <td>1.5</td>\n",
       "      <td>0.2</td>\n",
       "    </tr>\n",
       "    <tr>\n",
       "      <th>4</th>\n",
       "      <td>5.0</td>\n",
       "      <td>3.6</td>\n",
       "      <td>1.4</td>\n",
       "      <td>0.2</td>\n",
       "    </tr>\n",
       "    <tr>\n",
       "      <th>...</th>\n",
       "      <td>...</td>\n",
       "      <td>...</td>\n",
       "      <td>...</td>\n",
       "      <td>...</td>\n",
       "    </tr>\n",
       "    <tr>\n",
       "      <th>145</th>\n",
       "      <td>6.7</td>\n",
       "      <td>3.0</td>\n",
       "      <td>5.2</td>\n",
       "      <td>2.3</td>\n",
       "    </tr>\n",
       "    <tr>\n",
       "      <th>146</th>\n",
       "      <td>6.3</td>\n",
       "      <td>2.5</td>\n",
       "      <td>5.0</td>\n",
       "      <td>1.9</td>\n",
       "    </tr>\n",
       "    <tr>\n",
       "      <th>147</th>\n",
       "      <td>6.5</td>\n",
       "      <td>3.0</td>\n",
       "      <td>5.2</td>\n",
       "      <td>2.0</td>\n",
       "    </tr>\n",
       "    <tr>\n",
       "      <th>148</th>\n",
       "      <td>6.2</td>\n",
       "      <td>3.4</td>\n",
       "      <td>5.4</td>\n",
       "      <td>2.3</td>\n",
       "    </tr>\n",
       "    <tr>\n",
       "      <th>149</th>\n",
       "      <td>5.9</td>\n",
       "      <td>3.0</td>\n",
       "      <td>5.1</td>\n",
       "      <td>1.8</td>\n",
       "    </tr>\n",
       "  </tbody>\n",
       "</table>\n",
       "<p>150 rows × 4 columns</p>\n",
       "</div>"
      ],
      "text/plain": [
       "     sepal length (cm)  sepal width (cm)  petal length (cm)  petal width (cm)\n",
       "0                  5.1               3.5                1.4               0.2\n",
       "1                  4.9               3.0                1.4               0.2\n",
       "2                  4.7               3.2                1.3               0.2\n",
       "3                  4.6               3.1                1.5               0.2\n",
       "4                  5.0               3.6                1.4               0.2\n",
       "..                 ...               ...                ...               ...\n",
       "145                6.7               3.0                5.2               2.3\n",
       "146                6.3               2.5                5.0               1.9\n",
       "147                6.5               3.0                5.2               2.0\n",
       "148                6.2               3.4                5.4               2.3\n",
       "149                5.9               3.0                5.1               1.8\n",
       "\n",
       "[150 rows x 4 columns]"
      ]
     },
     "execution_count": 20,
     "metadata": {},
     "output_type": "execute_result"
    }
   ],
   "source": [
    "iris.data"
   ]
  },
  {
   "cell_type": "code",
   "execution_count": 21,
   "id": "1361a390-6ab0-4419-b72b-4ceeb7d845ee",
   "metadata": {},
   "outputs": [
    {
     "data": {
      "text/plain": [
       "sepal length (cm)    5.843333\n",
       "sepal width (cm)     3.057333\n",
       "petal length (cm)    3.758000\n",
       "petal width (cm)     1.199333\n",
       "dtype: float64"
      ]
     },
     "execution_count": 21,
     "metadata": {},
     "output_type": "execute_result"
    }
   ],
   "source": [
    "iris.data.mean()"
   ]
  },
  {
   "cell_type": "code",
   "execution_count": 22,
   "id": "50e41d47-35e5-4b98-81e9-36896fef9900",
   "metadata": {},
   "outputs": [
    {
     "data": {
      "text/plain": [
       "sepal length (cm)    0.685694\n",
       "sepal width (cm)     0.189979\n",
       "petal length (cm)    3.116278\n",
       "petal width (cm)     0.581006\n",
       "dtype: float64"
      ]
     },
     "execution_count": 22,
     "metadata": {},
     "output_type": "execute_result"
    }
   ],
   "source": [
    "iris.data.var()"
   ]
  },
  {
   "cell_type": "code",
   "execution_count": 23,
   "id": "3de27bb7-1aa8-4d51-bc20-1c9464a10cff",
   "metadata": {},
   "outputs": [],
   "source": [
    "from sklearn.preprocessing import StandardScaler"
   ]
  },
  {
   "cell_type": "code",
   "execution_count": 24,
   "id": "984103d9-ea36-4099-aa7e-39aefd438028",
   "metadata": {},
   "outputs": [],
   "source": [
    "scaler = StandardScaler()\n",
    "# 표준화\n",
    "scaler.fit(iris.data)\n",
    "iris_scaled = scaler.transform(iris.data)"
   ]
  },
  {
   "cell_type": "code",
   "execution_count": 25,
   "id": "c3e4234f-f9ae-4e39-9a5c-9e2e035cedc2",
   "metadata": {},
   "outputs": [],
   "source": [
    "iris_df = pd.DataFrame(iris_scaled)"
   ]
  },
  {
   "cell_type": "code",
   "execution_count": 26,
   "id": "19c5620a-1232-473b-97f6-59ce57f621d6",
   "metadata": {},
   "outputs": [
    {
     "data": {
      "text/plain": [
       "0   -0.0\n",
       "1   -0.0\n",
       "2   -0.0\n",
       "3   -0.0\n",
       "dtype: float64"
      ]
     },
     "execution_count": 26,
     "metadata": {},
     "output_type": "execute_result"
    }
   ],
   "source": [
    "iris_df.mean().round(5) #평균이 0으로 맞춰짐"
   ]
  },
  {
   "cell_type": "code",
   "execution_count": 27,
   "id": "60257618-a8a4-4110-81a2-1cd5367d4d69",
   "metadata": {},
   "outputs": [
    {
     "data": {
      "text/plain": [
       "0    1.006711\n",
       "1    1.006711\n",
       "2    1.006711\n",
       "3    1.006711\n",
       "dtype: float64"
      ]
     },
     "execution_count": 27,
     "metadata": {},
     "output_type": "execute_result"
    }
   ],
   "source": [
    "iris_df.var() #분산이 1로 맞춰짐"
   ]
  },
  {
   "cell_type": "code",
   "execution_count": 28,
   "id": "a6f3fbc3-0af7-4ac0-802e-d578259761d6",
   "metadata": {},
   "outputs": [],
   "source": [
    "from sklearn.preprocessing import MinMaxScaler"
   ]
  },
  {
   "cell_type": "code",
   "execution_count": 39,
   "id": "782028f0-cf0e-4651-ac71-2fd8e0666bdd",
   "metadata": {},
   "outputs": [],
   "source": [
    "# 정규화\n",
    "scaler = MinMaxScaler()\n",
    "scaler.fit(iris.data)\n",
    "iris_scaled = scaler.transform(iris.data)"
   ]
  },
  {
   "cell_type": "code",
   "execution_count": 30,
   "id": "bd226f7f-26b7-4398-ad7c-f185c84fbde0",
   "metadata": {},
   "outputs": [
    {
     "data": {
      "text/plain": [
       "0    0.0\n",
       "1    0.0\n",
       "2    0.0\n",
       "3    0.0\n",
       "dtype: float64"
      ]
     },
     "execution_count": 30,
     "metadata": {},
     "output_type": "execute_result"
    }
   ],
   "source": [
    "iris_df = pd.DataFrame(iris_scaled)\n",
    "iris_df.min() # 최솟값이 0"
   ]
  },
  {
   "cell_type": "code",
   "execution_count": 31,
   "id": "eddb68c5-6678-4bb8-8532-01c50a7eb552",
   "metadata": {},
   "outputs": [
    {
     "data": {
      "text/plain": [
       "0    1.0\n",
       "1    1.0\n",
       "2    1.0\n",
       "3    1.0\n",
       "dtype: float64"
      ]
     },
     "execution_count": 31,
     "metadata": {},
     "output_type": "execute_result"
    }
   ],
   "source": [
    "iris_df.max() # 최댓값이 1"
   ]
  },
  {
   "cell_type": "raw",
   "id": "17d4418c-5394-4eb6-8d15-e23567794280",
   "metadata": {},
   "source": [
    "어떤 경우에 표준화, 정규화를 쓸것인가???\n",
    "\n",
    "가우시안 정규분포를 따르는 데이터 -> 표준화\n",
    "그렇지 않다 -> 정규화\n",
    "\n"
   ]
  },
  {
   "cell_type": "code",
   "execution_count": null,
   "id": "98ca4532-b57a-4ba4-9af5-9dd5ab6b715b",
   "metadata": {},
   "outputs": [],
   "source": []
  },
  {
   "cell_type": "code",
   "execution_count": 32,
   "id": "7d0cf7a0-f8cf-4e35-8082-06b8358e2588",
   "metadata": {},
   "outputs": [
    {
     "data": {
      "text/plain": [
       "array([[ 0],\n",
       "       [ 1],\n",
       "       [ 2],\n",
       "       [ 3],\n",
       "       [ 4],\n",
       "       [ 5],\n",
       "       [ 6],\n",
       "       [ 7],\n",
       "       [ 8],\n",
       "       [ 9],\n",
       "       [10]])"
      ]
     },
     "execution_count": 32,
     "metadata": {},
     "output_type": "execute_result"
    }
   ],
   "source": [
    "# 정\n",
    "train_array = np.arange(0,11).reshape(-1,1)\n",
    "train_array"
   ]
  },
  {
   "cell_type": "code",
   "execution_count": 38,
   "id": "8138b560-bff7-4718-9013-a72414c386aa",
   "metadata": {},
   "outputs": [
    {
     "data": {
      "text/plain": [
       "(array([[ 0],\n",
       "        [ 1],\n",
       "        [ 2],\n",
       "        [ 3],\n",
       "        [ 4],\n",
       "        [ 5],\n",
       "        [ 6],\n",
       "        [ 7],\n",
       "        [ 8],\n",
       "        [ 9],\n",
       "        [10]]),\n",
       " array([[0],\n",
       "        [1],\n",
       "        [2],\n",
       "        [3],\n",
       "        [4],\n",
       "        [5]]))"
      ]
     },
     "execution_count": 38,
     "metadata": {},
     "output_type": "execute_result"
    }
   ],
   "source": [
    "test_array = np.arange(0,6).reshape(-1,1)\n",
    "train_array, test_array"
   ]
  },
  {
   "cell_type": "code",
   "execution_count": 34,
   "id": "a0ed94e3-1732-4ee5-bab0-6a72c8660c4d",
   "metadata": {},
   "outputs": [
    {
     "data": {
      "text/plain": [
       "(array([[0. ],\n",
       "        [0.1],\n",
       "        [0.2],\n",
       "        [0.3],\n",
       "        [0.4],\n",
       "        [0.5],\n",
       "        [0.6],\n",
       "        [0.7],\n",
       "        [0.8],\n",
       "        [0.9],\n",
       "        [1. ]]),\n",
       " array([[0. ],\n",
       "        [0.1],\n",
       "        [0.2],\n",
       "        [0.3],\n",
       "        [0.4],\n",
       "        [0.5]]))"
      ]
     },
     "execution_count": 34,
     "metadata": {},
     "output_type": "execute_result"
    }
   ],
   "source": [
    "#정규화\n",
    "scaler = MinMaxScaler()\n",
    "scaler.fit(train_array)\n",
    "train_array_scaler = scaler.transform(train_array)\n",
    "# transform으로 적용해야한다.\n",
    "\n",
    "train_array\n",
    "\n",
    "test_array_scaler = scaler.transform(test_array)\n",
    "train_array_scaler, test_array_scaler\n"
   ]
  },
  {
   "cell_type": "code",
   "execution_count": 35,
   "id": "9651861a-d380-467e-8e67-13dde57b2662",
   "metadata": {},
   "outputs": [
    {
     "data": {
      "text/plain": [
       "array([[0. ],\n",
       "       [0.2],\n",
       "       [0.4],\n",
       "       [0.6],\n",
       "       [0.8],\n",
       "       [1. ]])"
      ]
     },
     "execution_count": 35,
     "metadata": {},
     "output_type": "execute_result"
    }
   ],
   "source": [
    "# testscaler 의 스케일러를 유지 하여야 한다.\n",
    "# fit을 하면 스케일러 기준값이 바뀌어 버린다.\n",
    "scaler.fit(test_array)\n",
    "test_array_scaler = scaler.transform(test_array)\n",
    "test_array_scaler\n",
    "# 값이 0~1 사이"
   ]
  },
  {
   "cell_type": "raw",
   "id": "a6d2aa0c-7c01-4ef9-9ebd-514be57b8453",
   "metadata": {},
   "source": [
    "학습 데이터와 테스트 데이터를 각각 케일 하면 않된다.\n",
    "학습 데이터의 스케일러 를 기준으로 테스트 데이터를 스케일 해야한다.\n",
    "ex)\n",
    "0 ~ 10  의 데이터 -> 0 ~ 1 의 데이터        0 ~ 5 의 테스트 데이터 -> 0 ~ 0.5 의 테스트 데이터"
   ]
  }
 ],
 "metadata": {
  "kernelspec": {
   "display_name": "Python 3 (ipykernel)",
   "language": "python",
   "name": "python3"
  },
  "language_info": {
   "codemirror_mode": {
    "name": "ipython",
    "version": 3
   },
   "file_extension": ".py",
   "mimetype": "text/x-python",
   "name": "python",
   "nbconvert_exporter": "python",
   "pygments_lexer": "ipython3",
   "version": "3.9.13"
  }
 },
 "nbformat": 4,
 "nbformat_minor": 5
}
